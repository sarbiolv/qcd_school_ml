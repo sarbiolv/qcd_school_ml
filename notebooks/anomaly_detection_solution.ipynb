{
 "cells": [
  {
   "cell_type": "markdown",
   "metadata": {},
   "source": [
    "# ML Exercise: Anomaly detection in high energy physics\n",
    "\n",
    "<img src=\"images/front.png\" alt=\"AD\" width=\"300\" img align=\"right\"/>\n",
    "\n",
    "In this notebook we will demonstrate how to design a tiny autoencoder (AE) that we will use for anomaly detection in particle physics. More specifically, we will demonstrate how we can use autoencoders to select potentially New Physics enhanced proton collision events in a more unbiased way!\n",
    "\n",
    "We will train the autoencoder to learn to compress and decompress data, assuming that for highly anomalous events, the AE will fail.\n",
    "\n",
    "## Dataset\n",
    "\n",
    "As a dataset, we will use the CMS Open data that you have been made familiar with already. Our dataset will be represented as an array of missing transverse energy (MET), up to 4 electrons, up to 4 muons and 10 jets each described by pT, η, φ and particle ID (just from knowing whether it is a muon/electron/jet)--recid 63168 --protocol xrootd. The particles are ordered by pT. If fewer objects are present, the event is zero padded.\n",
    "\n",
    "We will train on a QCD MC dataset (we could also train directly on data), and evaluate the AE performance on a New Physics simulated sample: A Bulk graviton decaying to two vector bosons: G(M=2 TeV) → WW\n",
    "\n",
    "We'll train using background data only and test using both background and the Graviton sample. Let's fetch them! The background data are available [here](https://opendata.cern.ch/record/63168) (recid = 63168) and the signal data [here](https://opendata.cern.ch/record/33703) (recid = 33703). The signal consists of 1,37M events and the background 19,279M events. We will use roughly 500K for each process.\n",
    "\n",
    "We will use the docker client to print all the file names. You can then use this list to concatenate data from all the files."
   ]
  },
  {
   "cell_type": "code",
   "execution_count": 1,
   "metadata": {
    "tags": []
   },
   "outputs": [],
   "source": [
    "# # Install necessary ML packages unless you did so from the terminal already! Remember to restart the kernel after!!\n",
    "# %pip install qkeras==0.9.0 tensorflow==2.11.1 hls4ml h5py mplhep cernopendata-client pydot graphviz\n",
    "# %pip install --upgrade matplotlib"
   ]
  },
  {
   "cell_type": "code",
   "execution_count": 2,
   "metadata": {},
   "outputs": [
    {
     "name": "stdout",
     "output_type": "stream",
     "text": [
      "['root://eospublic.cern.ch//eos/opendata/cms/mc/RunIISummer20UL16NanoAODv9/QCD_Pt-15to7000_TuneCP5_Flat2018_13TeV_pythia8/NANOAODSIM/106X_mcRun2_asymptotic_v17-v1/130000/1C569D85-60AE-7D43-B42B-6D6FD1D66CC7.root'\n",
      " 'root://eospublic.cern.ch//eos/opendata/cms/mc/RunIISummer20UL16NanoAODv9/QCD_Pt-15to7000_TuneCP5_Flat2018_13TeV_pythia8/NANOAODSIM/106X_mcRun2_asymptotic_v17-v1/130000/2EDCC683-1B4B-614B-BEB7-D80BBC20AD8E.root'\n",
      " 'root://eospublic.cern.ch//eos/opendata/cms/mc/RunIISummer20UL16NanoAODv9/QCD_Pt-15to7000_TuneCP5_Flat2018_13TeV_pythia8/NANOAODSIM/106X_mcRun2_asymptotic_v17-v1/270000/19E8D842-3175-1449-AF6C-FD9C69D12724.root'\n",
      " 'root://eospublic.cern.ch//eos/opendata/cms/mc/RunIISummer20UL16NanoAODv9/QCD_Pt-15to7000_TuneCP5_Flat2018_13TeV_pythia8/NANOAODSIM/106X_mcRun2_asymptotic_v17-v1/270000/3957434B-7E09-3B4C-8329-FD44D82C7DB7.root'\n",
      " 'root://eospublic.cern.ch//eos/opendata/cms/mc/RunIISummer20UL16NanoAODv9/QCD_Pt-15to7000_TuneCP5_Flat2018_13TeV_pythia8/NANOAODSIM/106X_mcRun2_asymptotic_v17-v1/270000/397D1673-167A-CF46-9E79-D7069D9AC359.root'\n",
      " 'root://eospublic.cern.ch//eos/opendata/cms/mc/RunIISummer20UL16NanoAODv9/QCD_Pt-15to7000_TuneCP5_Flat2018_13TeV_pythia8/NANOAODSIM/106X_mcRun2_asymptotic_v17-v1/270000/52EE209E-3CB4-3D4F-9564-531DB7409165.root'\n",
      " 'root://eospublic.cern.ch//eos/opendata/cms/mc/RunIISummer20UL16NanoAODv9/QCD_Pt-15to7000_TuneCP5_Flat2018_13TeV_pythia8/NANOAODSIM/106X_mcRun2_asymptotic_v17-v1/270000/8A52F254-16F0-674E-9616-3006F7F39D81.root'\n",
      " 'root://eospublic.cern.ch//eos/opendata/cms/mc/RunIISummer20UL16NanoAODv9/QCD_Pt-15to7000_TuneCP5_Flat2018_13TeV_pythia8/NANOAODSIM/106X_mcRun2_asymptotic_v17-v1/270000/AECD4750-69A3-DB47-B573-A4500E55D882.root'\n",
      " 'root://eospublic.cern.ch//eos/opendata/cms/mc/RunIISummer20UL16NanoAODv9/QCD_Pt-15to7000_TuneCP5_Flat2018_13TeV_pythia8/NANOAODSIM/106X_mcRun2_asymptotic_v17-v1/270000/DDE8E8AB-4E56-704A-9D68-29CE8AE82FF3.root'\n",
      " 'root://eospublic.cern.ch//eos/opendata/cms/mc/RunIISummer20UL16NanoAODv9/QCD_Pt-15to7000_TuneCP5_Flat2018_13TeV_pythia8/NANOAODSIM/106X_mcRun2_asymptotic_v17-v1/280000/0E28C961-58A5-994B-B580-F09D129EB416.root'\n",
      " 'root://eospublic.cern.ch//eos/opendata/cms/mc/RunIISummer20UL16NanoAODv9/QCD_Pt-15to7000_TuneCP5_Flat2018_13TeV_pythia8/NANOAODSIM/106X_mcRun2_asymptotic_v17-v1/280000/0F04A6E6-1939-A94E-A5F4-4F89917EC014.root'\n",
      " 'root://eospublic.cern.ch//eos/opendata/cms/mc/RunIISummer20UL16NanoAODv9/QCD_Pt-15to7000_TuneCP5_Flat2018_13TeV_pythia8/NANOAODSIM/106X_mcRun2_asymptotic_v17-v1/280000/175A5DD9-13A2-144B-AE64-4AE7C27CADD3.root'\n",
      " 'root://eospublic.cern.ch//eos/opendata/cms/mc/RunIISummer20UL16NanoAODv9/QCD_Pt-15to7000_TuneCP5_Flat2018_13TeV_pythia8/NANOAODSIM/106X_mcRun2_asymptotic_v17-v1/280000/243023B4-EA5E-8F4B-9ED6-10A813A89A6F.root'\n",
      " 'root://eospublic.cern.ch//eos/opendata/cms/mc/RunIISummer20UL16NanoAODv9/QCD_Pt-15to7000_TuneCP5_Flat2018_13TeV_pythia8/NANOAODSIM/106X_mcRun2_asymptotic_v17-v1/280000/321D4D40-7868-6542-8F2F-10816EFC2973.root'\n",
      " 'root://eospublic.cern.ch//eos/opendata/cms/mc/RunIISummer20UL16NanoAODv9/QCD_Pt-15to7000_TuneCP5_Flat2018_13TeV_pythia8/NANOAODSIM/106X_mcRun2_asymptotic_v17-v1/280000/46DF71C3-2523-3B40-A688-976DE229A9C1.root'\n",
      " 'root://eospublic.cern.ch//eos/opendata/cms/mc/RunIISummer20UL16NanoAODv9/QCD_Pt-15to7000_TuneCP5_Flat2018_13TeV_pythia8/NANOAODSIM/106X_mcRun2_asymptotic_v17-v1/280000/5C25FB94-67C3-364B-9E90-BDA250D6ED93.root'\n",
      " 'root://eospublic.cern.ch//eos/opendata/cms/mc/RunIISummer20UL16NanoAODv9/QCD_Pt-15to7000_TuneCP5_Flat2018_13TeV_pythia8/NANOAODSIM/106X_mcRun2_asymptotic_v17-v1/280000/5FF8D866-2808-0E47-BE82-9536953DF53D.root'\n",
      " 'root://eospublic.cern.ch//eos/opendata/cms/mc/RunIISummer20UL16NanoAODv9/QCD_Pt-15to7000_TuneCP5_Flat2018_13TeV_pythia8/NANOAODSIM/106X_mcRun2_asymptotic_v17-v1/280000/68EAF4D1-6A01-D546-AFC0-DB6C38512576.root'\n",
      " 'root://eospublic.cern.ch//eos/opendata/cms/mc/RunIISummer20UL16NanoAODv9/QCD_Pt-15to7000_TuneCP5_Flat2018_13TeV_pythia8/NANOAODSIM/106X_mcRun2_asymptotic_v17-v1/280000/6EA41120-0013-0A48-AE9D-965B9B8291CF.root'\n",
      " 'root://eospublic.cern.ch//eos/opendata/cms/mc/RunIISummer20UL16NanoAODv9/QCD_Pt-15to7000_TuneCP5_Flat2018_13TeV_pythia8/NANOAODSIM/106X_mcRun2_asymptotic_v17-v1/280000/7610A6D1-B8E2-F54C-AE0F-D4406084077D.root'\n",
      " 'root://eospublic.cern.ch//eos/opendata/cms/mc/RunIISummer20UL16NanoAODv9/QCD_Pt-15to7000_TuneCP5_Flat2018_13TeV_pythia8/NANOAODSIM/106X_mcRun2_asymptotic_v17-v1/280000/7F142AC6-39F2-2F4F-9F97-C425A1C99A35.root'\n",
      " 'root://eospublic.cern.ch//eos/opendata/cms/mc/RunIISummer20UL16NanoAODv9/QCD_Pt-15to7000_TuneCP5_Flat2018_13TeV_pythia8/NANOAODSIM/106X_mcRun2_asymptotic_v17-v1/280000/85CB98E1-D675-984E-BA09-DD7C95483ADF.root'\n",
      " 'root://eospublic.cern.ch//eos/opendata/cms/mc/RunIISummer20UL16NanoAODv9/QCD_Pt-15to7000_TuneCP5_Flat2018_13TeV_pythia8/NANOAODSIM/106X_mcRun2_asymptotic_v17-v1/280000/9859C258-06DB-C443-99D0-A1849B59C5CD.root'\n",
      " 'root://eospublic.cern.ch//eos/opendata/cms/mc/RunIISummer20UL16NanoAODv9/QCD_Pt-15to7000_TuneCP5_Flat2018_13TeV_pythia8/NANOAODSIM/106X_mcRun2_asymptotic_v17-v1/280000/C3F117F4-5211-0241-A129-8E979D7F281C.root'\n",
      " 'root://eospublic.cern.ch//eos/opendata/cms/mc/RunIISummer20UL16NanoAODv9/QCD_Pt-15to7000_TuneCP5_Flat2018_13TeV_pythia8/NANOAODSIM/106X_mcRun2_asymptotic_v17-v1/280000/FCF7CA28-D3D5-6B4F-81D9-B12D55E0E4AD.root'\n",
      " 'root://eospublic.cern.ch//eos/opendata/cms/mc/RunIISummer20UL16NanoAODv9/QCD_Pt-15to7000_TuneCP5_Flat2018_13TeV_pythia8/NANOAODSIM/106X_mcRun2_asymptotic_v17-v1/70000/50C501A4-6495-484B-8C0C-195BB030B6E8.root'\n",
      " 'root://eospublic.cern.ch//eos/opendata/cms/mc/RunIISummer20UL16NanoAODv9/QCD_Pt-15to7000_TuneCP5_Flat2018_13TeV_pythia8/NANOAODSIM/106X_mcRun2_asymptotic_v17-v1/70000/FECACF35-921D-A147-9E03-B81EC03485C5.root']\n",
      "['root://eospublic.cern.ch//eos/opendata/cms/mc/RunIISummer20UL16NanoAODv9/BulkGravToWWToWhadWhad_narrow_M-2000_TuneCP5_13TeV-madgraph-pythia/NANOAODSIM/106X_mcRun2_asymptotic_v17-v2/130000/9AB2D56B-22D4-AF45-A7D2-936193FCD361.root'\n",
      " 'root://eospublic.cern.ch//eos/opendata/cms/mc/RunIISummer20UL16NanoAODv9/BulkGravToWWToWhadWhad_narrow_M-2000_TuneCP5_13TeV-madgraph-pythia/NANOAODSIM/106X_mcRun2_asymptotic_v17-v2/130000/FBE90691-38E8-FE4B-AB57-BC29D360ECDC.root'\n",
      " 'root://eospublic.cern.ch//eos/opendata/cms/mc/RunIISummer20UL16NanoAODv9/BulkGravToWWToWhadWhad_narrow_M-2000_TuneCP5_13TeV-madgraph-pythia/NANOAODSIM/106X_mcRun2_asymptotic_v17-v2/2510000/CC25B3DF-AEE4-DE45-9D37-BF5FD8CA6DE2.root'\n",
      " 'root://eospublic.cern.ch//eos/opendata/cms/mc/RunIISummer20UL16NanoAODv9/BulkGravToWWToWhadWhad_narrow_M-2000_TuneCP5_13TeV-madgraph-pythia/NANOAODSIM/106X_mcRun2_asymptotic_v17-v2/260000/4A95BAE1-F574-3B43-BC5A-11F681217F7E.root'\n",
      " 'root://eospublic.cern.ch//eos/opendata/cms/mc/RunIISummer20UL16NanoAODv9/BulkGravToWWToWhadWhad_narrow_M-2000_TuneCP5_13TeV-madgraph-pythia/NANOAODSIM/106X_mcRun2_asymptotic_v17-v2/260000/61560860-26B0-2C41-BA34-3BA7556592FC.root'\n",
      " 'root://eospublic.cern.ch//eos/opendata/cms/mc/RunIISummer20UL16NanoAODv9/BulkGravToWWToWhadWhad_narrow_M-2000_TuneCP5_13TeV-madgraph-pythia/NANOAODSIM/106X_mcRun2_asymptotic_v17-v2/260000/756B17AD-7C68-0D4F-AA6B-8B07544D8687.root'\n",
      " 'root://eospublic.cern.ch//eos/opendata/cms/mc/RunIISummer20UL16NanoAODv9/BulkGravToWWToWhadWhad_narrow_M-2000_TuneCP5_13TeV-madgraph-pythia/NANOAODSIM/106X_mcRun2_asymptotic_v17-v2/260000/BE6324C8-33EC-0649-9192-44B4B9D5B051.root'\n",
      " 'root://eospublic.cern.ch//eos/opendata/cms/mc/RunIISummer20UL16NanoAODv9/BulkGravToWWToWhadWhad_narrow_M-2000_TuneCP5_13TeV-madgraph-pythia/NANOAODSIM/106X_mcRun2_asymptotic_v17-v2/260000/D54B7722-4D6C-0A4B-8EB5-61788AAE58B2.root'\n",
      " 'root://eospublic.cern.ch//eos/opendata/cms/mc/RunIISummer20UL16NanoAODv9/BulkGravToWWToWhadWhad_narrow_M-2000_TuneCP5_13TeV-madgraph-pythia/NANOAODSIM/106X_mcRun2_asymptotic_v17-v2/260000/D6A350B7-6266-CA40-B82E-0665F98F1BC4.root'\n",
      " 'root://eospublic.cern.ch//eos/opendata/cms/mc/RunIISummer20UL16NanoAODv9/BulkGravToWWToWhadWhad_narrow_M-2000_TuneCP5_13TeV-madgraph-pythia/NANOAODSIM/106X_mcRun2_asymptotic_v17-v2/260000/E0636F7E-88E0-4048-8D70-C62BB9C471C9.root'\n",
      " 'root://eospublic.cern.ch//eos/opendata/cms/mc/RunIISummer20UL16NanoAODv9/BulkGravToWWToWhadWhad_narrow_M-2000_TuneCP5_13TeV-madgraph-pythia/NANOAODSIM/106X_mcRun2_asymptotic_v17-v2/260000/FA205E94-4F2A-734B-8D1D-6CC591343E94.root'\n",
      " 'root://eospublic.cern.ch//eos/opendata/cms/mc/RunIISummer20UL16NanoAODv9/BulkGravToWWToWhadWhad_narrow_M-2000_TuneCP5_13TeV-madgraph-pythia/NANOAODSIM/106X_mcRun2_asymptotic_v17-v2/260000/FBDD80E2-FF50-5440-94C3-E390FA7512A6.root'\n",
      " 'root://eospublic.cern.ch//eos/opendata/cms/mc/RunIISummer20UL16NanoAODv9/BulkGravToWWToWhadWhad_narrow_M-2000_TuneCP5_13TeV-madgraph-pythia/NANOAODSIM/106X_mcRun2_asymptotic_v17-v2/270000/0DB124C6-ECD1-D445-8716-26A00E9C42DD.root'\n",
      " 'root://eospublic.cern.ch//eos/opendata/cms/mc/RunIISummer20UL16NanoAODv9/BulkGravToWWToWhadWhad_narrow_M-2000_TuneCP5_13TeV-madgraph-pythia/NANOAODSIM/106X_mcRun2_asymptotic_v17-v2/270000/32B3D9D9-CC49-8544-AF7D-623D08210392.root'\n",
      " 'root://eospublic.cern.ch//eos/opendata/cms/mc/RunIISummer20UL16NanoAODv9/BulkGravToWWToWhadWhad_narrow_M-2000_TuneCP5_13TeV-madgraph-pythia/NANOAODSIM/106X_mcRun2_asymptotic_v17-v2/270000/3F5F72D7-17D7-AB44-A161-1E223F875B4B.root'\n",
      " 'root://eospublic.cern.ch//eos/opendata/cms/mc/RunIISummer20UL16NanoAODv9/BulkGravToWWToWhadWhad_narrow_M-2000_TuneCP5_13TeV-madgraph-pythia/NANOAODSIM/106X_mcRun2_asymptotic_v17-v2/270000/6181F814-946B-5B43-BAA5-AC17A57ADC43.root'\n",
      " 'root://eospublic.cern.ch//eos/opendata/cms/mc/RunIISummer20UL16NanoAODv9/BulkGravToWWToWhadWhad_narrow_M-2000_TuneCP5_13TeV-madgraph-pythia/NANOAODSIM/106X_mcRun2_asymptotic_v17-v2/270000/90F57721-9140-724D-914D-B9A9D836A880.root'\n",
      " 'root://eospublic.cern.ch//eos/opendata/cms/mc/RunIISummer20UL16NanoAODv9/BulkGravToWWToWhadWhad_narrow_M-2000_TuneCP5_13TeV-madgraph-pythia/NANOAODSIM/106X_mcRun2_asymptotic_v17-v2/270000/D16206A6-8407-A749-9717-4ADF68117615.root']\n"
     ]
    }
   ],
   "source": [
    "import subprocess\n",
    "import numpy as np\n",
    "\n",
    "command = [\"cernopendata-client\", \"get-file-locations\", \"--recid\", \"63168\", \"--protocol\", \"xrootd\"]\n",
    "result = subprocess.run(command, capture_output=True, text=True)\n",
    "filenames = result.stdout.splitlines()\n",
    "filenames_bkg = np.array(filenames)\n",
    "\n",
    "command = [\"cernopendata-client\", \"get-file-locations\", \"--recid\", \"33703\", \"--protocol\", \"xrootd\"]\n",
    "result = subprocess.run(command, capture_output=True, text=True)\n",
    "filenames = result.stdout.splitlines()\n",
    "filenames_sig = np.array(filenames)\n",
    "\n",
    "# Print the NumPy array\n",
    "print(filenames_bkg)\n",
    "print(filenames_sig)"
   ]
  },
  {
   "cell_type": "code",
   "execution_count": 3,
   "metadata": {},
   "outputs": [],
   "source": [
    "import uproot\n",
    "import matplotlib.pylab as plt\n",
    "import awkward as ak\n",
    "import numpy as np\n",
    "from glob import glob\n",
    "\n",
    "treename = \"Events\"\n",
    "branch_dict = {\n",
    "                \"Muon\": [\"pt\", \"eta\", \"phi\"],\n",
    "                \"Electron\": [\"pt\", \"eta\", \"phi\"],\n",
    "                \"FatJet\": [\"pt\", \"eta\", \"phi\"],\n",
    "                # \"MET\": [\"pt\", \"phi\"]\n",
    "            }\n",
    "\n",
    "# make list of branches to read from the dictionary above\n",
    "branch_names = []\n",
    "for obj, var in branch_dict.items(): \n",
    "    branch_names += [obj + \"_\" + v for v in var]\n",
    "\n",
    "infiles_sig = filenames_sig[:] # Lets use all the signal files\n",
    "\n",
    "data_sig = uproot.concatenate({fname:\"Events\" for fname in infiles_sig}, \n",
    "                              branch_names, \n",
    "                              how = \"zip\",\n",
    "                              library = \"ak\")\n",
    "\n",
    "# infiles_bkg = [\"root://eospublic.cern.ch//eos/opendata/cms/mc/RunIISummer20UL16NanoAODv9/QCD_Pt-15to7000_TuneCP5_Flat2018_13TeV_pythia8/NANOAODSIM/106X_mcRun2_asymptotic_v17-v1/130000/2EDCC683-1B4B-614B-BEB7-D80BBC20AD8E.root\",\"root://eospublic.cern.ch//eos/opendata/cms/mc/RunIISummer20UL16NanoAODv9/QCD_Pt-15to7000_TuneCP5_Flat2018_13TeV_pythia8/NANOAODSIM/106X_mcRun2_asymptotic_v17-v1/270000/19E8D842-3175-1449-AF6C-FD9C69D12724.root\",\"root://eospublic.cern.ch//eos/opendata/cms/mc/RunIISummer20UL16NanoAODv9/QCD_Pt-15to7000_TuneCP5_Flat2018_13TeV_pythia8/NANOAODSIM/106X_mcRun2_asymptotic_v17-v1/270000/3957434B-7E09-3B4C-8329-FD44D82C7DB7.root\",\"root://eospublic.cern.ch//eos/opendata/cms/mc/RunIISummer20UL16NanoAODv9/QCD_Pt-15to7000_TuneCP5_Flat2018_13TeV_pythia8/NANOAODSIM/106X_mcRun2_asymptotic_v17-v1/270000/397D1673-167A-CF46-9E79-D7069D9AC359.root\"]\n",
    "infiles_bkg = filenames_bkg[8:12] #Let's use only 4 of the background files, one of the first files seems to not be accessible with xrootd so I take entry 4-8\n",
    "data_bkg = uproot.concatenate({fname:\"Events\" for fname in infiles_bkg}, \n",
    "                              branch_names, \n",
    "                              how = \"zip\",\n",
    "                              library = \"ak\")\n",
    "\n",
    "\n",
    "# # Here is an example of how you can open a single file rith awkward and regex for the branch expression :\n",
    "\n",
    "# file_bkg = uproot.open(infiles_bkg[0])\n",
    "# data_bkg = file_bkg[\"Events\"].arrays(\n",
    "#     filter_name = \"/(Muon|Electron|FatJet|MET)_(pt|eta|phi|sumEt)/\", \n",
    "#     how = \"zip\"\n",
    "# )"
   ]
  },
  {
   "cell_type": "markdown",
   "metadata": {},
   "source": [
    "Now we have each object grouped in a respective field, and the variables are accesible at the next level (this is a result of using how=\"zip\" when loading)"
   ]
  },
  {
   "cell_type": "code",
   "execution_count": 4,
   "metadata": {},
   "outputs": [
    {
     "data": {
      "text/plain": [
       "['Muon', 'Electron', 'FatJet']"
      ]
     },
     "execution_count": 4,
     "metadata": {},
     "output_type": "execute_result"
    }
   ],
   "source": [
    "data_sig.fields"
   ]
  },
  {
   "cell_type": "code",
   "execution_count": 5,
   "metadata": {},
   "outputs": [
    {
     "data": {
      "text/plain": [
       "['pt', 'eta', 'phi']"
      ]
     },
     "execution_count": 5,
     "metadata": {},
     "output_type": "execute_result"
    }
   ],
   "source": [
    "data_sig.FatJet.fields"
   ]
  },
  {
   "cell_type": "code",
   "execution_count": 6,
   "metadata": {},
   "outputs": [
    {
     "name": "stdout",
     "output_type": "stream",
     "text": [
      "Training on N signal samples: 137000\n",
      "Training on N backgr samples: 3579000\n"
     ]
    }
   ],
   "source": [
    "print(f\"Training on N signal samples: {len(data_sig)}\")\n",
    "print(f\"Training on N backgr samples: {len(data_bkg)}\")"
   ]
  },
  {
   "cell_type": "markdown",
   "metadata": {},
   "source": [
    "Alright, let's look at the data and prepare our 1-D array:"
   ]
  },
  {
   "cell_type": "code",
   "execution_count": 7,
   "metadata": {},
   "outputs": [
    {
     "data": {
      "image/png": "[encoded data removed]",
      "text/plain": [
       "<Figure size 432x288 with 1 Axes>"
      ]
     },
     "metadata": {
      "needs_background": "light"
     },
     "output_type": "display_data"
    },
    {
     "data": {
      "image/png": "[encoded data removed]",
      "text/plain": [
       "<Figure size 432x288 with 1 Axes>"
      ]
     },
     "metadata": {
      "needs_background": "light"
     },
     "output_type": "display_data"
    },
    {
     "data": {
      "image/png": "[encoded data removed]",
      "text/plain": [
       "<Figure size 432x288 with 1 Axes>"
      ]
     },
     "metadata": {
      "needs_background": "light"
     },
     "output_type": "display_data"
    }
   ],
   "source": [
    "import mplhep\n",
    "mplhep.style.use('CMS')\n",
    "\n",
    "for obj in [ 'Muon', 'Electron', 'FatJet']:\n",
    "    plt.figure()#figsize = (8,4))\n",
    "\n",
    "    for label, data in zip([\"bkg\",\"sig\"], [data_bkg, data_sig]):\n",
    "        num = ak.num(data[obj])\n",
    "        plt.hist(num, label = label, bins = range(13), density = True, \n",
    "                 #log = True, \n",
    "                 histtype = \"step\")\n",
    "        \n",
    "    plt.xlabel(f\"N of {obj}\")\n",
    "    plt.legend()\n",
    "#     plt.grid()"
   ]
  },
  {
   "cell_type": "code",
   "execution_count": 8,
   "metadata": {},
   "outputs": [
    {
     "data": {
      "image/png": "[encoded data removed]",
      "text/plain": [
       "<Figure size 432x288 with 1 Axes>"
      ]
     },
     "metadata": {
      "needs_background": "light"
     },
     "output_type": "display_data"
    },
    {
     "data": {
      "image/png": "[encoded data removed]",
      "text/plain": [
       "<Figure size 432x288 with 1 Axes>"
      ]
     },
     "metadata": {
      "needs_background": "light"
     },
     "output_type": "display_data"
    },
    {
     "data": {
      "image/png": "[encoded data removed]",
      "text/plain": [
       "<Figure size 432x288 with 1 Axes>"
      ]
     },
     "metadata": {
      "needs_background": "light"
     },
     "output_type": "display_data"
    }
   ],
   "source": [
    " for obj in [ 'Electron', 'FatJet', 'Muon']:\n",
    "    plt.figure()#figsize = (8,4))\n",
    "\n",
    "    for label, data in zip([\"bkg\",\"sig\"], [data_bkg, data_sig]):\n",
    "        # notice the [:,:1] below -> we slice the array and select no more than the first entry per event\n",
    "        # ak.ravel makes the array flat such that we can fill a histogram\n",
    "        plt.hist(ak.ravel(data[obj].pt[:,:1]), label = label, bins = np.linspace(1, 2000, 101), density = True, \n",
    "                 log = True, \n",
    "                 histtype = \"step\")\n",
    "        \n",
    "    plt.xlabel(f\"{obj} pt\")\n",
    "    plt.legend()\n",
    "#     plt.grid()"
   ]
  },
  {
   "cell_type": "markdown",
   "metadata": {},
   "source": [
    "# Convert data to regular array for ML usage\n",
    "\n",
    "Now we need to convert this to something regular that an ML algorithm can use! We will use dedicated functions to ease this conversion from jagged to regular format"
   ]
  },
  {
   "cell_type": "code",
   "execution_count": 9,
   "metadata": {},
   "outputs": [],
   "source": [
    "def getPadNParr(events, obj, n_pad, fields, cuts = None, name = None, pad_val = 0):\n",
    "    '''\n",
    "    This function filter objects and pads them to a certain length with a given value\n",
    "    '''\n",
    "    \n",
    "    objects = events[obj]\n",
    "    \n",
    "    if not name: name = obj\n",
    "    \n",
    "    pad_arrs = []\n",
    "    var_names = []\n",
    "        \n",
    "    # padding with nones\n",
    "    pad_arr = ak.pad_none(objects, n_pad, clip=True)\n",
    "    \n",
    "    # combining to numpy\n",
    "    for i in range(n_pad):\n",
    "\n",
    "        for var in fields:\n",
    "            pad_arrs += [ak.to_numpy( ak.fill_none(pad_arr[var][:,i], pad_val) )]\n",
    "            var_names.append( \"{}_{}_{}\".format(name, i, var) )\n",
    "            \n",
    "    return np.stack(pad_arrs), var_names\n",
    "\n",
    "def formatData(data, objects, verbosity = 0):\n",
    "    '''\n",
    "    This function concatenates the padded arrays for different objects.\n",
    "    It is controlled via a dictionary as defined above\n",
    "    '''\n",
    "    \n",
    "    # this will be filled by all required objects\n",
    "    dataList = [] \n",
    "    varList = []\n",
    "    \n",
    "    for obj in objects: \n",
    "        print(obj)\n",
    "        dat, names = getPadNParr(data, obj[\"key\"], obj[\"n_obj\"], obj[\"fields\"], obj[\"cuts\"] if \"cuts\" in obj else None, obj[\"name\"] )\n",
    "        dataList.append(dat)\n",
    "        varList += names\n",
    "        \n",
    "    if verbosity > 0:\n",
    "        print(\"The input variables are the following:\")\n",
    "        print(varList)\n",
    "                \n",
    "    # combining and returning (and transforming back so events are along the first axis...)\n",
    "    return np.concatenate(dataList, axis = 0).T, varList"
   ]
  },
  {
   "cell_type": "code",
   "execution_count": 10,
   "metadata": {},
   "outputs": [
    {
     "name": "stdout",
     "output_type": "stream",
     "text": [
      "{'name': 'FatJet', 'key': 'FatJet', 'fields': ['pt', 'eta', 'phi'], 'n_obj': 6}\n",
      "{'name': 'Electron', 'key': 'Electron', 'fields': ['pt', 'eta', 'phi'], 'n_obj': 4}\n",
      "{'name': 'Muon', 'key': 'Muon', 'fields': ['pt', 'eta', 'phi'], 'n_obj': 4}\n",
      "The input variables are the following:\n",
      "['FatJet_0_pt', 'FatJet_0_eta', 'FatJet_0_phi', 'FatJet_1_pt', 'FatJet_1_eta', 'FatJet_1_phi', 'FatJet_2_pt', 'FatJet_2_eta', 'FatJet_2_phi', 'FatJet_3_pt', 'FatJet_3_eta', 'FatJet_3_phi', 'FatJet_4_pt', 'FatJet_4_eta', 'FatJet_4_phi', 'FatJet_5_pt', 'FatJet_5_eta', 'FatJet_5_phi', 'Electron_0_pt', 'Electron_0_eta', 'Electron_0_phi', 'Electron_1_pt', 'Electron_1_eta', 'Electron_1_phi', 'Electron_2_pt', 'Electron_2_eta', 'Electron_2_phi', 'Electron_3_pt', 'Electron_3_eta', 'Electron_3_phi', 'Muon_0_pt', 'Muon_0_eta', 'Muon_0_phi', 'Muon_1_pt', 'Muon_1_eta', 'Muon_1_phi', 'Muon_2_pt', 'Muon_2_eta', 'Muon_2_phi', 'Muon_3_pt', 'Muon_3_eta', 'Muon_3_phi']\n",
      "{'name': 'FatJet', 'key': 'FatJet', 'fields': ['pt', 'eta', 'phi'], 'n_obj': 6}\n",
      "{'name': 'Electron', 'key': 'Electron', 'fields': ['pt', 'eta', 'phi'], 'n_obj': 4}\n",
      "{'name': 'Muon', 'key': 'Muon', 'fields': ['pt', 'eta', 'phi'], 'n_obj': 4}\n"
     ]
    }
   ],
   "source": [
    " objects = [\n",
    "    # {\"name\" : \"MET\", \"key\" : \"MET\", \"fields\" : [\"pt\", \"phi\"], \"n_obj\" : 1 },\n",
    "    {\"name\" : \"FatJet\", \"key\" : \"FatJet\", \"fields\" : [\"pt\", \"eta\", \"phi\"], \"n_obj\" : 6},\n",
    "    {\"name\" : \"Electron\", \"key\" : \"Electron\", \"fields\" : [\"pt\", \"eta\", \"phi\"], \"n_obj\" : 4},\n",
    "    {\"name\" : \"Muon\", \"key\" : \"Muon\", \"fields\" : [\"pt\", \"eta\", \"phi\"], \"n_obj\" : 4}\n",
    "]\n",
    "    \n",
    "x_sig, var_names = formatData(data_sig, objects, verbosity = 99) \n",
    "x_bkg, var_names = formatData(data_bkg, objects, verbosity = 0) "
   ]
  },
  {
   "cell_type": "markdown",
   "metadata": {},
   "source": [
    "Let's look at some of the inputs and see whether they make sense!"
   ]
  },
  {
   "cell_type": "code",
   "execution_count": 11,
   "metadata": {},
   "outputs": [
    {
     "data": {
      "image/png": "[encoded data removed]",
      "text/plain": [
       "<Figure size 432x288 with 1 Axes>"
      ]
     },
     "metadata": {
      "needs_background": "light"
     },
     "output_type": "display_data"
    },
    {
     "data": {
      "image/png": "[encoded data removed]",
      "text/plain": [
       "<Figure size 432x288 with 1 Axes>"
      ]
     },
     "metadata": {
      "needs_background": "light"
     },
     "output_type": "display_data"
    },
    {
     "data": {
      "image/png": "[encoded data removed]",
      "text/plain": [
       "<Figure size 432x288 with 1 Axes>"
      ]
     },
     "metadata": {
      "needs_background": "light"
     },
     "output_type": "display_data"
    },
    {
     "data": {
      "image/png": "[encoded data removed]",
      "text/plain": [
       "<Figure size 432x288 with 1 Axes>"
      ]
     },
     "metadata": {
      "needs_background": "light"
     },
     "output_type": "display_data"
    },
    {
     "data": {
      "image/png": "[encoded data removed]",
      "text/plain": [
       "<Figure size 432x288 with 1 Axes>"
      ]
     },
     "metadata": {
      "needs_background": "light"
     },
     "output_type": "display_data"
    },
    {
     "data": {
      "image/png": "[encoded data removed]",
      "text/plain": [
       "<Figure size 432x288 with 1 Axes>"
      ]
     },
     "metadata": {
      "needs_background": "light"
     },
     "output_type": "display_data"
    },
    {
     "data": {
      "image/png": "[encoded data removed]",
      "text/plain": [
       "<Figure size 432x288 with 1 Axes>"
      ]
     },
     "metadata": {
      "needs_background": "light"
     },
     "output_type": "display_data"
    },
    {
     "data": {
      "image/png": "[encoded data removed]",
      "text/plain": [
       "<Figure size 432x288 with 1 Axes>"
      ]
     },
     "metadata": {
      "needs_background": "light"
     },
     "output_type": "display_data"
    },
    {
     "data": {
      "image/png": "[encoded data removed]",
      "text/plain": [
       "<Figure size 432x288 with 1 Axes>"
      ]
     },
     "metadata": {
      "needs_background": "light"
     },
     "output_type": "display_data"
    }
   ],
   "source": [
    "for i,name in enumerate(var_names[:100]):\n",
    "    if \"_0_\" not in name: continue\n",
    "        \n",
    "    plt.figure()\n",
    "    \n",
    "    _ = plt.hist(x_bkg[:,i], bins = 50, log = True, density = True, label = \"Bkg\")\n",
    "    _ = plt.hist(x_sig[:,i], bins = _[1], histtype = \"step\", density = True, label = \"Sig\")\n",
    "    \n",
    "    plt.xlabel(name)\n",
    "    plt.legend()\n",
    "#     break"
   ]
  },
  {
   "cell_type": "markdown",
   "metadata": {},
   "source": [
    "You can see now that for the non-sum objects we have peaks at 0 as this was the pad_val padding value for filling empty variables. \n",
    "# Final preprocessing"
   ]
  },
  {
   "cell_type": "markdown",
   "metadata": {},
   "source": [
    "\n",
    "Let's prepare the data!\n",
    "Having very different numerical ranges for the input features, as in this case where $p_T$, $\\eta$ and $\\phi$ have a very diffent mean, makes it difficult for the network to converge. We will therefore standardize the $p_T$.  Also, when there is no lepton present in the event, the values will be zero padded. That means there is an unnatural number of zero entries in the $p_T$. For a real use case, the loss should be rewritten as to not take zero entries into account. Ideally we would also deal with the periodicity of phi etc. Details on the best procedure for preprccesing can be found in [this paper](https://arxiv.org/abs/2108.03986). In the interest of time, we'll only do the $p_T$ scaling.\n",
    "\n",
    "In addition, we split the training data into train/test sets and save them: "
   ]
  },
  {
   "cell_type": "code",
   "execution_count": 12,
   "metadata": {},
   "outputs": [
    {
     "name": "stdout",
     "output_type": "stream",
     "text": [
      "Training data shape =  (2863200, 42)\n"
     ]
    }
   ],
   "source": [
    "import h5py\n",
    "import numpy as np\n",
    "from sklearn.model_selection import train_test_split\n",
    "from sklearn.preprocessing import StandardScaler\n",
    "\n",
    "\n",
    "scaler = StandardScaler()\n",
    "_ = scaler.fit(x_bkg)\n",
    "x_bkg_scaled = scaler.transform(x_bkg)\n",
    "x_sig_scaled = scaler.transform(x_sig)\n",
    "    \n",
    "        \n",
    "# define training, test and validation datasets\n",
    "X_train, X_test = train_test_split(x_bkg_scaled, test_size=0.2, shuffle=True)\n",
    "\n",
    "print(\"Training data shape = \",X_train.shape)    \n",
    "with h5py.File('bkg_dataset.h5', 'w') as h5f:\n",
    "    h5f.create_dataset('X_train', data = X_train)\n",
    "    h5f.create_dataset('X_test', data = X_test)\n",
    "    \n",
    "with h5py.File('signal_dataset.h5', 'w') as h5f2:\n",
    "    h5f2.create_dataset('Data', data = x_sig_scaled)        \n"
   ]
  },
  {
   "cell_type": "markdown",
   "metadata": {},
   "source": [
    "You  now have two new files in your reposity, `bkg_dataset.h5` and `signal_dataset.h5` which contains your train/test/val data to train the autoencoder, as well as a test data to check your performance on a New Physics signal"
   ]
  },
  {
   "cell_type": "markdown",
   "metadata": {},
   "source": [
    "Let's inspect the training data:"
   ]
  },
  {
   "cell_type": "code",
   "execution_count": 13,
   "metadata": {},
   "outputs": [],
   "source": [
    "with h5py.File('bkg_dataset.h5', 'r') as file:\n",
    "    X_train = np.array(file['X_train'])\n",
    "    X_test = np.array(file['X_test'])\n",
    "    \n",
    "with h5py.File('signal_dataset.h5', 'r') as file:\n",
    "    signal_test_data = np.array(file['Data'])"
   ]
  },
  {
   "cell_type": "code",
   "execution_count": 14,
   "metadata": {},
   "outputs": [
    {
     "name": "stdout",
     "output_type": "stream",
     "text": [
      " Training (#samples,#features): (2863200, 42)\n",
      " Testing  (#samples,#features): (137000, 42)\n",
      "Example data (1,57): [-4.39690135e-02  4.70301741e-02 -1.41703282e+00 -6.98852727e-02\n",
      "  3.55098594e-02  1.12701959e+00  2.60402613e+00  3.04614462e-01\n",
      " -2.65962687e-01 -1.22684617e-01  3.50192235e-04 -7.14749317e-05\n",
      " -4.43206412e-02 -3.33632606e-04  7.25184459e-04 -1.37289735e-02\n",
      " -3.32360726e-04  1.02781495e-03 -2.00978918e-01 -5.61192504e-03\n",
      "  4.55263479e-03 -6.62671527e-02 -5.83728795e-03  2.05354211e-03\n",
      " -7.05828374e-02 -4.15400510e-03  5.82392782e-04 -4.95774722e-02\n",
      " -2.26075118e-03  7.94573810e-04 -1.77374625e-03  6.63756183e-02\n",
      " -1.68869483e+00 -1.61466919e-01  7.43070479e-02 -2.03187288e+00\n",
      " -3.19934986e-01 -6.09267760e+00 -1.87636052e+00 -3.72210628e-01\n",
      " -1.38539524e-03  8.18718807e-03]\n"
     ]
    },
    {
     "data": {
      "image/png": "[encoded data removed]",
      "text/plain": [
       "<Figure size 1152x720 with 2 Axes>"
      ]
     },
     "metadata": {
      "needs_background": "light"
     },
     "output_type": "display_data"
    }
   ],
   "source": [
    "import matplotlib.pyplot as plt\n",
    "\n",
    "print(\" Training (#samples,#features):\", X_train.shape)\n",
    "print(\" Testing  (#samples,#features):\", signal_test_data.shape)\n",
    "\n",
    "fig, axs = plt.subplots(1,2,figsize=(16,10))\n",
    "fig.suptitle('Kinematic distributions in bkg vs signal')\n",
    "\n",
    "axs[0].hist(X_train[:,0],bins=100,label=r'Background',histtype='step', linewidth=2, facecolor='none', edgecolor='green',fill=True,density=True)\n",
    "axs[0].hist(signal_test_data[:,0 ],bins=100,label=r'Signal',histtype='step', linewidth=2, facecolor='none', edgecolor='orchid',fill=True,density=True)\n",
    "axs[0].semilogy()\n",
    "axs[0].set(xlabel=u'Leading jet $p_{T}$ ( Norm. GeV)', ylabel='A.U')\n",
    "axs[0].legend(loc='best',frameon=False, ncol=1,fontsize='large')\n",
    "\n",
    "axs[1].hist(X_train[:,18],bins=100,label=r'Background',histtype='step', linewidth=2, facecolor='none', edgecolor='green',fill=True,density=True)\n",
    "axs[1].hist(signal_test_data[:,18],bins=100,label=r'Signal',histtype='step', linewidth=2, facecolor='none', edgecolor='orchid',fill=True,density=True)\n",
    "axs[1].set(xlabel=u'Leading electron $p_{T}$ (Norm. GeV)', ylabel='A.U')\n",
    "axs[1].semilogy()\n",
    "axs[1].legend(loc='best',frameon=False, ncol=1,fontsize='large')\n",
    "print(\"Example data (1,57):\",signal_test_data[3])"
   ]
  },
  {
   "cell_type": "markdown",
   "metadata": {},
   "source": [
    "# Defining the autoencoder\n",
    "\n",
    "Now, let's define an autoencoder to learn to reconstruct the training data after compressing it through a bottleneck, then decompressing it again.\n",
    "\n",
    "<img src=\"images/ae.png\" alt=\"The autoencoder\" width=\"800\" img align=\"center\"/>\n",
    "\n",
    "For that, we need a stack of dense layers:"
   ]
  },
  {
   "cell_type": "code",
   "execution_count": 15,
   "metadata": {},
   "outputs": [
    {
     "name": "stderr",
     "output_type": "stream",
     "text": [
      "2024-07-02 06:24:45.290930: I tensorflow/core/platform/cpu_feature_guard.cc:193] This TensorFlow binary is optimized with oneAPI Deep Neural Network Library (oneDNN) to use the following CPU instructions in performance-critical operations:  AVX2 FMA\n",
      "To enable them in other operations, rebuild TensorFlow with the appropriate compiler flags.\n",
      "2024-07-02 06:24:45.745159: W tensorflow/compiler/xla/stream_executor/platform/default/dso_loader.cc:64] Could not load dynamic library 'libcudart.so.11.0'; dlerror: libcudart.so.11.0: cannot open shared object file: No such file or directory\n",
      "2024-07-02 06:24:45.745187: I tensorflow/compiler/xla/stream_executor/cuda/cudart_stub.cc:29] Ignore above cudart dlerror if you do not have a GPU set up on your machine.\n",
      "2024-07-02 06:24:47.588106: W tensorflow/compiler/xla/stream_executor/platform/default/dso_loader.cc:64] Could not load dynamic library 'libnvinfer.so.7'; dlerror: libnvinfer.so.7: cannot open shared object file: No such file or directory\n",
      "2024-07-02 06:24:47.588305: W tensorflow/compiler/xla/stream_executor/platform/default/dso_loader.cc:64] Could not load dynamic library 'libnvinfer_plugin.so.7'; dlerror: libnvinfer_plugin.so.7: cannot open shared object file: No such file or directory\n",
      "2024-07-02 06:24:47.588321: W tensorflow/compiler/tf2tensorrt/utils/py_utils.cc:38] TF-TRT Warning: Cannot dlopen some TensorRT libraries. If you would like to use Nvidia GPU with TensorRT, please make sure the missing libraries mentioned above are installed properly.\n"
     ]
    },
    {
     "name": "stdout",
     "output_type": "stream",
     "text": [
      "Model: \"model\"\n",
      "_________________________________________________________________\n",
      " Layer (type)                Output Shape              Param #   \n",
      "=================================================================\n"
     ]
    },
    {
     "name": "stderr",
     "output_type": "stream",
     "text": [
      "2024-07-02 06:24:49.338011: W tensorflow/compiler/xla/stream_executor/platform/default/dso_loader.cc:64] Could not load dynamic library 'libcuda.so.1'; dlerror: libcuda.so.1: cannot open shared object file: No such file or directory\n",
      "2024-07-02 06:24:49.338074: W tensorflow/compiler/xla/stream_executor/cuda/cuda_driver.cc:265] failed call to cuInit: UNKNOWN ERROR (303)\n",
      "2024-07-02 06:24:49.338098: I tensorflow/compiler/xla/stream_executor/cuda/cuda_diagnostics.cc:156] kernel driver does not appear to be running on this host (40ffea690e46): /proc/driver/nvidia/version does not exist\n",
      "2024-07-02 06:24:49.338886: I tensorflow/core/platform/cpu_feature_guard.cc:193] This TensorFlow binary is optimized with oneAPI Deep Neural Network Library (oneDNN) to use the following CPU instructions in performance-critical operations:  AVX2 FMA\n",
      "To enable them in other operations, rebuild TensorFlow with the appropriate compiler flags.\n"
     ]
    },
    {
     "name": "stdout",
     "output_type": "stream",
     "text": [
      " input_1 (InputLayer)        [(None, 42)]              0         \n",
      "                                                                 \n",
      " dense (Dense)               (None, 32)                1376      \n",
      "                                                                 \n",
      " batch_normalization (BatchN  (None, 32)               128       \n",
      " ormalization)                                                   \n",
      "                                                                 \n",
      " leaky_re_lu (LeakyReLU)     (None, 32)                0         \n",
      "                                                                 \n",
      " dense_1 (Dense)             (None, 16)                528       \n",
      "                                                                 \n",
      " batch_normalization_1 (Batc  (None, 16)               64        \n",
      " hNormalization)                                                 \n",
      "                                                                 \n",
      " leaky_re_lu_1 (LeakyReLU)   (None, 16)                0         \n",
      "                                                                 \n",
      " dense_2 (Dense)             (None, 3)                 51        \n",
      "                                                                 \n",
      " dense_3 (Dense)             (None, 16)                64        \n",
      "                                                                 \n",
      " batch_normalization_2 (Batc  (None, 16)               64        \n",
      " hNormalization)                                                 \n",
      "                                                                 \n",
      " leaky_re_lu_2 (LeakyReLU)   (None, 16)                0         \n",
      "                                                                 \n",
      " dense_4 (Dense)             (None, 32)                544       \n",
      "                                                                 \n",
      " batch_normalization_3 (Batc  (None, 32)               128       \n",
      " hNormalization)                                                 \n",
      "                                                                 \n",
      " leaky_re_lu_3 (LeakyReLU)   (None, 32)                0         \n",
      "                                                                 \n",
      " dense_5 (Dense)             (None, 42)                1386      \n",
      "                                                                 \n",
      "=================================================================\n",
      "Total params: 4,333\n",
      "Trainable params: 4,141\n",
      "Non-trainable params: 192\n",
      "_________________________________________________________________\n"
     ]
    }
   ],
   "source": [
    "import tensorflow as tf\n",
    "from tensorflow.keras.models import Model\n",
    "from tensorflow.keras.layers import Input, Dense, Lambda, BatchNormalization, Activation, Concatenate, Dropout, Layer\n",
    "from tensorflow.keras.layers import ReLU, LeakyReLU\n",
    "\n",
    "input_shape = X_train.shape[1]\n",
    "latent_dim = 3\n",
    "#encoder\n",
    "inputArray = Input(shape=(input_shape,))\n",
    "#x = BatchNormalization()(inputArray) #Only use this if you're not standardizing the pT\n",
    "x = Dense(32, kernel_initializer=tf.keras.initializers.HeUniform())(inputArray)\n",
    "x = BatchNormalization()(x)\n",
    "x = LeakyReLU(alpha=0.3)(x)\n",
    "x = Dense(16, kernel_initializer=tf.keras.initializers.HeUniform())(x)\n",
    "x = BatchNormalization()(x)\n",
    "x = LeakyReLU(alpha=0.3)(x)\n",
    "encoder = Dense(latent_dim, kernel_initializer=tf.keras.initializers.HeUniform())(x)\n",
    "\n",
    "#decoder\n",
    "x = Dense(16, kernel_initializer=tf.keras.initializers.HeUniform())(encoder)\n",
    "x = BatchNormalization()(x)\n",
    "x = LeakyReLU(alpha=0.3)(x)\n",
    "x = Dense(32, kernel_initializer=tf.keras.initializers.HeUniform())(x)\n",
    "x = BatchNormalization()(x)\n",
    "x = LeakyReLU(alpha=0.3)(x)\n",
    "decoder = Dense(input_shape, kernel_initializer=tf.keras.initializers.HeUniform())(x)\n",
    "\n",
    "#create autoencoder\n",
    "autoencoder = Model(inputs = inputArray, outputs=decoder)\n",
    "autoencoder.summary()"
   ]
  },
  {
   "cell_type": "code",
   "execution_count": 16,
   "metadata": {},
   "outputs": [],
   "source": [
    "autoencoder.compile(optimizer=tf.keras.optimizers.Adam(learning_rate=0.00001), loss='mse')"
   ]
  },
  {
   "cell_type": "markdown",
   "metadata": {},
   "source": [
    "# Let's train!"
   ]
  },
  {
   "cell_type": "code",
   "execution_count": 17,
   "metadata": {},
   "outputs": [
    {
     "name": "stderr",
     "output_type": "stream",
     "text": [
      "2024-07-02 06:24:49.951375: W tensorflow/tsl/framework/cpu_allocator_impl.cc:82] Allocation of 384814080 exceeds 10% of free system memory.\n",
      "2024-07-02 06:24:50.130868: W tensorflow/tsl/framework/cpu_allocator_impl.cc:82] Allocation of 384814080 exceeds 10% of free system memory.\n"
     ]
    },
    {
     "name": "stdout",
     "output_type": "stream",
     "text": [
      "Epoch 1/150\n",
      "2237/2237 [==============================] - 17s 7ms/step - loss: 1.6965 - val_loss: 1.2332 - lr: 1.0000e-05\n",
      "Epoch 2/150\n",
      "2237/2237 [==============================] - 15s 7ms/step - loss: 1.2503 - val_loss: 1.0602 - lr: 1.0000e-05\n",
      "Epoch 3/150\n",
      "2237/2237 [==============================] - 15s 7ms/step - loss: 1.0513 - val_loss: 0.9279 - lr: 1.0000e-05\n",
      "Epoch 4/150\n",
      "2237/2237 [==============================] - 16s 7ms/step - loss: 0.9559 - val_loss: 0.8652 - lr: 1.0000e-05\n",
      "Epoch 5/150\n",
      "2237/2237 [==============================] - 19s 9ms/step - loss: 0.9065 - val_loss: 0.8291 - lr: 1.0000e-05\n",
      "Epoch 6/150\n",
      "2237/2237 [==============================] - 16s 7ms/step - loss: 0.8776 - val_loss: 0.8059 - lr: 1.0000e-05\n",
      "Epoch 7/150\n",
      "2237/2237 [==============================] - 16s 7ms/step - loss: 0.8582 - val_loss: 0.7895 - lr: 1.0000e-05\n",
      "Epoch 8/150\n",
      "2237/2237 [==============================] - 19s 9ms/step - loss: 0.8435 - val_loss: 0.7779 - lr: 1.0000e-05\n",
      "Epoch 9/150\n",
      "2237/2237 [==============================] - 22s 10ms/step - loss: 0.8320 - val_loss: 0.7670 - lr: 1.0000e-05\n",
      "Epoch 10/150\n",
      "2237/2237 [==============================] - 20s 9ms/step - loss: 0.8229 - val_loss: 0.7586 - lr: 1.0000e-05\n",
      "Epoch 11/150\n",
      "2237/2237 [==============================] - 20s 9ms/step - loss: 0.8146 - val_loss: 0.7657 - lr: 1.0000e-05\n",
      "Epoch 12/150\n",
      "2237/2237 [==============================] - 22s 10ms/step - loss: 0.8076 - val_loss: 0.7444 - lr: 1.0000e-05\n",
      "Epoch 13/150\n",
      "2237/2237 [==============================] - 18s 8ms/step - loss: 0.8014 - val_loss: 0.7395 - lr: 1.0000e-05\n",
      "Epoch 14/150\n",
      "2237/2237 [==============================] - 19s 8ms/step - loss: 0.7959 - val_loss: 0.7335 - lr: 1.0000e-05\n",
      "Epoch 15/150\n",
      "2237/2237 [==============================] - 16s 7ms/step - loss: 0.7907 - val_loss: 0.7293 - lr: 1.0000e-05\n",
      "Epoch 16/150\n",
      "2237/2237 [==============================] - 16s 7ms/step - loss: 0.7859 - val_loss: 0.7246 - lr: 1.0000e-05\n",
      "Epoch 17/150\n",
      "2237/2237 [==============================] - 17s 7ms/step - loss: 0.7818 - val_loss: 0.7204 - lr: 1.0000e-05\n",
      "Epoch 18/150\n",
      "2237/2237 [==============================] - 16s 7ms/step - loss: 0.7778 - val_loss: 0.7166 - lr: 1.0000e-05\n",
      "Epoch 19/150\n",
      "2237/2237 [==============================] - 18s 8ms/step - loss: 0.7742 - val_loss: 0.7132 - lr: 1.0000e-05\n",
      "Epoch 20/150\n",
      "2237/2237 [==============================] - 16s 7ms/step - loss: 0.7706 - val_loss: 0.7101 - lr: 1.0000e-05\n",
      "Epoch 21/150\n",
      "2237/2237 [==============================] - 17s 7ms/step - loss: 0.7675 - val_loss: 0.7069 - lr: 1.0000e-05\n",
      "Epoch 22/150\n",
      "2237/2237 [==============================] - 16s 7ms/step - loss: 0.7644 - val_loss: 0.7046 - lr: 1.0000e-05\n",
      "Epoch 23/150\n",
      "2237/2237 [==============================] - 16s 7ms/step - loss: 0.7615 - val_loss: 0.7016 - lr: 1.0000e-05\n",
      "Epoch 24/150\n",
      "2237/2237 [==============================] - 17s 7ms/step - loss: 0.7587 - val_loss: 0.6988 - lr: 1.0000e-05\n",
      "Epoch 25/150\n",
      "2237/2237 [==============================] - 17s 8ms/step - loss: 0.7560 - val_loss: 0.6962 - lr: 1.0000e-05\n",
      "Epoch 26/150\n",
      "2237/2237 [==============================] - 21s 9ms/step - loss: 0.7533 - val_loss: 0.6939 - lr: 1.0000e-05\n",
      "Epoch 27/150\n",
      "2237/2237 [==============================] - 16s 7ms/step - loss: 0.7511 - val_loss: 0.6923 - lr: 1.0000e-05\n",
      "Epoch 28/150\n",
      "2237/2237 [==============================] - 15s 7ms/step - loss: 0.7483 - val_loss: 0.6893 - lr: 1.0000e-05\n",
      "Epoch 29/150\n",
      "2237/2237 [==============================] - 15s 7ms/step - loss: 0.7461 - val_loss: 0.6930 - lr: 1.0000e-05\n",
      "Epoch 30/150\n",
      "2237/2237 [==============================] - 15s 7ms/step - loss: 0.7439 - val_loss: 0.6847 - lr: 1.0000e-05\n",
      "Epoch 31/150\n",
      "2237/2237 [==============================] - 15s 7ms/step - loss: 0.7416 - val_loss: 0.6825 - lr: 1.0000e-05\n",
      "Epoch 32/150\n",
      "2237/2237 [==============================] - 15s 7ms/step - loss: 0.7395 - val_loss: 0.6805 - lr: 1.0000e-05\n",
      "Epoch 33/150\n",
      "2237/2237 [==============================] - 15s 7ms/step - loss: 0.7372 - val_loss: 0.6781 - lr: 1.0000e-05\n",
      "Epoch 34/150\n",
      "2237/2237 [==============================] - 15s 7ms/step - loss: 0.7347 - val_loss: 0.6758 - lr: 1.0000e-05\n",
      "Epoch 35/150\n",
      "2237/2237 [==============================] - 15s 7ms/step - loss: 0.7323 - val_loss: 0.6742 - lr: 1.0000e-05\n",
      "Epoch 36/150\n",
      "2237/2237 [==============================] - 20s 9ms/step - loss: 0.7303 - val_loss: 0.6716 - lr: 1.0000e-05\n",
      "Epoch 37/150\n",
      "2237/2237 [==============================] - 18s 8ms/step - loss: 0.7279 - val_loss: 0.6694 - lr: 1.0000e-05\n",
      "Epoch 38/150\n",
      "2237/2237 [==============================] - 18s 8ms/step - loss: 0.7257 - val_loss: 0.6676 - lr: 1.0000e-05\n",
      "Epoch 39/150\n",
      "2237/2237 [==============================] - 18s 8ms/step - loss: 0.7235 - val_loss: 0.6651 - lr: 1.0000e-05\n",
      "Epoch 40/150\n",
      "2237/2237 [==============================] - 18s 8ms/step - loss: 0.7212 - val_loss: 0.6625 - lr: 1.0000e-05\n",
      "Epoch 41/150\n",
      "2237/2237 [==============================] - 19s 8ms/step - loss: 0.7190 - val_loss: 0.6603 - lr: 1.0000e-05\n",
      "Epoch 42/150\n",
      "2237/2237 [==============================] - 16s 7ms/step - loss: 0.7170 - val_loss: 0.6582 - lr: 1.0000e-05\n",
      "Epoch 43/150\n",
      "2237/2237 [==============================] - 16s 7ms/step - loss: 0.7147 - val_loss: 0.6567 - lr: 1.0000e-05\n",
      "Epoch 44/150\n",
      "2237/2237 [==============================] - 16s 7ms/step - loss: 0.7126 - val_loss: 0.6546 - lr: 1.0000e-05\n",
      "Epoch 45/150\n",
      "2237/2237 [==============================] - 16s 7ms/step - loss: 0.7107 - val_loss: 0.6522 - lr: 1.0000e-05\n",
      "Epoch 46/150\n",
      "2237/2237 [==============================] - 16s 7ms/step - loss: 0.7088 - val_loss: 0.6501 - lr: 1.0000e-05\n",
      "Epoch 47/150\n",
      "2237/2237 [==============================] - 17s 8ms/step - loss: 0.7069 - val_loss: 0.6483 - lr: 1.0000e-05\n",
      "Epoch 48/150\n",
      "2237/2237 [==============================] - 17s 7ms/step - loss: 0.7050 - val_loss: 0.6465 - lr: 1.0000e-05\n",
      "Epoch 49/150\n",
      "2237/2237 [==============================] - 16s 7ms/step - loss: 0.7031 - val_loss: 0.6447 - lr: 1.0000e-05\n",
      "Epoch 50/150\n",
      "2237/2237 [==============================] - 16s 7ms/step - loss: 0.7016 - val_loss: 0.6427 - lr: 1.0000e-05\n",
      "Epoch 51/150\n",
      "2237/2237 [==============================] - 16s 7ms/step - loss: 0.6998 - val_loss: 0.6411 - lr: 1.0000e-05\n",
      "Epoch 52/150\n",
      "2237/2237 [==============================] - 19s 8ms/step - loss: 0.6979 - val_loss: 0.6399 - lr: 1.0000e-05\n",
      "Epoch 53/150\n",
      "2237/2237 [==============================] - 17s 8ms/step - loss: 0.6963 - val_loss: 0.6377 - lr: 1.0000e-05\n",
      "Epoch 54/150\n",
      "2237/2237 [==============================] - 16s 7ms/step - loss: 0.6946 - val_loss: 0.6358 - lr: 1.0000e-05\n",
      "Epoch 55/150\n",
      "2237/2237 [==============================] - 16s 7ms/step - loss: 0.6930 - val_loss: 0.6341 - lr: 1.0000e-05\n",
      "Epoch 56/150\n",
      "2237/2237 [==============================] - 16s 7ms/step - loss: 0.6914 - val_loss: 0.6366 - lr: 1.0000e-05\n",
      "Epoch 57/150\n",
      "2237/2237 [==============================] - 17s 7ms/step - loss: 0.6900 - val_loss: 0.6315 - lr: 1.0000e-05\n",
      "Epoch 58/150\n",
      "2237/2237 [==============================] - 18s 8ms/step - loss: 0.6883 - val_loss: 0.6297 - lr: 1.0000e-05\n",
      "Epoch 59/150\n",
      "2237/2237 [==============================] - 16s 7ms/step - loss: 0.6867 - val_loss: 0.6282 - lr: 1.0000e-05\n",
      "Epoch 60/150\n",
      "2237/2237 [==============================] - 19s 8ms/step - loss: 0.6851 - val_loss: 0.6268 - lr: 1.0000e-05\n",
      "Epoch 61/150\n",
      "2237/2237 [==============================] - 28s 12ms/step - loss: 0.6832 - val_loss: 0.6251 - lr: 1.0000e-05\n",
      "Epoch 62/150\n",
      "2237/2237 [==============================] - 25s 11ms/step - loss: 0.6820 - val_loss: 0.6248 - lr: 1.0000e-05\n",
      "Epoch 63/150\n",
      "2237/2237 [==============================] - 20s 9ms/step - loss: 0.6804 - val_loss: 0.6230 - lr: 1.0000e-05\n",
      "Epoch 64/150\n",
      "2237/2237 [==============================] - 16s 7ms/step - loss: 0.6792 - val_loss: 0.6215 - lr: 1.0000e-05\n",
      "Epoch 65/150\n",
      "2237/2237 [==============================] - 16s 7ms/step - loss: 0.6775 - val_loss: 0.6198 - lr: 1.0000e-05\n",
      "Epoch 66/150\n",
      "2237/2237 [==============================] - 19s 9ms/step - loss: 0.6764 - val_loss: 0.6187 - lr: 1.0000e-05\n",
      "Epoch 67/150\n",
      "2237/2237 [==============================] - 19s 9ms/step - loss: 0.6752 - val_loss: 0.6181 - lr: 1.0000e-05\n",
      "Epoch 68/150\n",
      "2237/2237 [==============================] - 17s 8ms/step - loss: 0.6740 - val_loss: 0.6164 - lr: 1.0000e-05\n",
      "Epoch 69/150\n",
      "2237/2237 [==============================] - 17s 7ms/step - loss: 0.6726 - val_loss: 0.6151 - lr: 1.0000e-05\n",
      "Epoch 70/150\n",
      "2237/2237 [==============================] - 16s 7ms/step - loss: 0.6715 - val_loss: 0.6139 - lr: 1.0000e-05\n",
      "Epoch 71/150\n",
      "2237/2237 [==============================] - 19s 8ms/step - loss: 0.6702 - val_loss: 0.6130 - lr: 1.0000e-05\n",
      "Epoch 72/150\n",
      "2237/2237 [==============================] - 18s 8ms/step - loss: 0.6694 - val_loss: 0.6121 - lr: 1.0000e-05\n",
      "Epoch 73/150\n",
      "2237/2237 [==============================] - 20s 9ms/step - loss: 0.6680 - val_loss: 0.6108 - lr: 1.0000e-05\n",
      "Epoch 74/150\n",
      "2237/2237 [==============================] - 18s 8ms/step - loss: 0.6673 - val_loss: 0.6098 - lr: 1.0000e-05\n",
      "Epoch 75/150\n",
      "2237/2237 [==============================] - 17s 8ms/step - loss: 0.6662 - val_loss: 0.6086 - lr: 1.0000e-05\n",
      "Epoch 76/150\n",
      "2237/2237 [==============================] - 17s 8ms/step - loss: 0.6649 - val_loss: 0.6079 - lr: 1.0000e-05\n",
      "Epoch 77/150\n",
      "2237/2237 [==============================] - 17s 8ms/step - loss: 0.6642 - val_loss: 0.6068 - lr: 1.0000e-05\n",
      "Epoch 78/150\n",
      "2237/2237 [==============================] - 17s 8ms/step - loss: 0.6632 - val_loss: 0.6060 - lr: 1.0000e-05\n",
      "Epoch 79/150\n",
      "2237/2237 [==============================] - 17s 7ms/step - loss: 0.6622 - val_loss: 0.6050 - lr: 1.0000e-05\n",
      "Epoch 80/150\n",
      "2237/2237 [==============================] - 18s 8ms/step - loss: 0.6612 - val_loss: 0.6044 - lr: 1.0000e-05\n",
      "Epoch 81/150\n",
      "2237/2237 [==============================] - 18s 8ms/step - loss: 0.6605 - val_loss: 0.6037 - lr: 1.0000e-05\n",
      "Epoch 82/150\n",
      "2237/2237 [==============================] - 18s 8ms/step - loss: 0.6595 - val_loss: 0.6024 - lr: 1.0000e-05\n",
      "Epoch 83/150\n",
      "2237/2237 [==============================] - 17s 7ms/step - loss: 0.6583 - val_loss: 0.6023 - lr: 1.0000e-05\n",
      "Epoch 84/150\n",
      "2237/2237 [==============================] - 17s 8ms/step - loss: 0.6577 - val_loss: 0.6008 - lr: 1.0000e-05\n",
      "Epoch 85/150\n",
      "2237/2237 [==============================] - 15s 7ms/step - loss: 0.6567 - val_loss: 0.6003 - lr: 1.0000e-05\n",
      "Epoch 86/150\n",
      "2237/2237 [==============================] - 15s 7ms/step - loss: 0.6562 - val_loss: 0.5991 - lr: 1.0000e-05\n",
      "Epoch 87/150\n",
      "2237/2237 [==============================] - 14s 6ms/step - loss: 0.6550 - val_loss: 0.5982 - lr: 1.0000e-05\n",
      "Epoch 88/150\n",
      "2237/2237 [==============================] - 14s 6ms/step - loss: 0.6543 - val_loss: 0.5973 - lr: 1.0000e-05\n",
      "Epoch 89/150\n",
      "2237/2237 [==============================] - 14s 6ms/step - loss: 0.6532 - val_loss: 0.5967 - lr: 1.0000e-05\n",
      "Epoch 90/150\n",
      "2237/2237 [==============================] - 14s 6ms/step - loss: 0.6525 - val_loss: 0.5959 - lr: 1.0000e-05\n",
      "Epoch 91/150\n",
      "2237/2237 [==============================] - 14s 6ms/step - loss: 0.6517 - val_loss: 0.5952 - lr: 1.0000e-05\n",
      "Epoch 92/150\n",
      "2237/2237 [==============================] - 15s 6ms/step - loss: 0.6509 - val_loss: 0.5944 - lr: 1.0000e-05\n",
      "Epoch 93/150\n",
      "2237/2237 [==============================] - 14s 6ms/step - loss: 0.6503 - val_loss: 0.6060 - lr: 1.0000e-05\n",
      "Epoch 94/150\n",
      "2237/2237 [==============================] - 16s 7ms/step - loss: 0.6494 - val_loss: 0.5928 - lr: 1.0000e-05\n",
      "Epoch 95/150\n",
      "2237/2237 [==============================] - 16s 7ms/step - loss: 0.6484 - val_loss: 0.5919 - lr: 1.0000e-05\n",
      "Epoch 96/150\n",
      "2237/2237 [==============================] - 18s 8ms/step - loss: 0.6475 - val_loss: 0.5912 - lr: 1.0000e-05\n",
      "Epoch 97/150\n",
      "2237/2237 [==============================] - 16s 7ms/step - loss: 0.6473 - val_loss: 0.5905 - lr: 1.0000e-05\n",
      "Epoch 98/150\n",
      "2237/2237 [==============================] - 15s 7ms/step - loss: 0.6463 - val_loss: 0.5895 - lr: 1.0000e-05\n",
      "Epoch 99/150\n",
      "2237/2237 [==============================] - 15s 7ms/step - loss: 0.6456 - val_loss: 0.5892 - lr: 1.0000e-05\n",
      "Epoch 100/150\n",
      "2237/2237 [==============================] - 18s 8ms/step - loss: 0.6446 - val_loss: 0.5879 - lr: 1.0000e-05\n",
      "Epoch 101/150\n",
      "2237/2237 [==============================] - 18s 8ms/step - loss: 0.6439 - val_loss: 0.5873 - lr: 1.0000e-05\n",
      "Epoch 102/150\n",
      "2237/2237 [==============================] - 17s 8ms/step - loss: 0.6428 - val_loss: 0.5868 - lr: 1.0000e-05\n",
      "Epoch 103/150\n",
      "2237/2237 [==============================] - 18s 8ms/step - loss: 0.6424 - val_loss: 0.5862 - lr: 1.0000e-05\n",
      "Epoch 104/150\n",
      "2237/2237 [==============================] - 16s 7ms/step - loss: 0.6417 - val_loss: 0.5851 - lr: 1.0000e-05\n",
      "Epoch 105/150\n",
      "2237/2237 [==============================] - 16s 7ms/step - loss: 0.6408 - val_loss: 0.5852 - lr: 1.0000e-05\n",
      "Epoch 106/150\n",
      "2237/2237 [==============================] - 14s 6ms/step - loss: 0.6406 - val_loss: 0.5849 - lr: 1.0000e-05\n",
      "Epoch 107/150\n",
      "2237/2237 [==============================] - 14s 6ms/step - loss: 0.6394 - val_loss: 0.5834 - lr: 1.0000e-05\n",
      "Epoch 108/150\n",
      "2237/2237 [==============================] - 14s 6ms/step - loss: 0.6389 - val_loss: 0.5824 - lr: 1.0000e-05\n",
      "Epoch 109/150\n",
      "2237/2237 [==============================] - 14s 6ms/step - loss: 0.6380 - val_loss: 0.5819 - lr: 1.0000e-05\n",
      "Epoch 110/150\n",
      "2237/2237 [==============================] - 14s 6ms/step - loss: 0.6376 - val_loss: 0.5810 - lr: 1.0000e-05\n",
      "Epoch 111/150\n",
      "2237/2237 [==============================] - 19s 9ms/step - loss: 0.6370 - val_loss: 0.5807 - lr: 1.0000e-05\n",
      "Epoch 112/150\n",
      "2237/2237 [==============================] - 17s 7ms/step - loss: 0.6363 - val_loss: 0.5797 - lr: 1.0000e-05\n",
      "Epoch 113/150\n",
      "2237/2237 [==============================] - 17s 7ms/step - loss: 0.6354 - val_loss: 0.5792 - lr: 1.0000e-05\n",
      "Epoch 114/150\n",
      "2237/2237 [==============================] - 16s 7ms/step - loss: 0.6346 - val_loss: 0.5786 - lr: 1.0000e-05\n",
      "Epoch 115/150\n",
      "2237/2237 [==============================] - 16s 7ms/step - loss: 0.6341 - val_loss: 0.5780 - lr: 1.0000e-05\n",
      "Epoch 116/150\n",
      "2237/2237 [==============================] - 16s 7ms/step - loss: 0.6334 - val_loss: 0.5770 - lr: 1.0000e-05\n",
      "Epoch 117/150\n",
      "2237/2237 [==============================] - 16s 7ms/step - loss: 0.6330 - val_loss: 0.5770 - lr: 1.0000e-05\n",
      "Epoch 118/150\n",
      "2237/2237 [==============================] - 17s 8ms/step - loss: 0.6323 - val_loss: 0.5757 - lr: 1.0000e-05\n",
      "Epoch 119/150\n",
      "2237/2237 [==============================] - 17s 8ms/step - loss: 0.6314 - val_loss: 0.5753 - lr: 1.0000e-05\n",
      "Epoch 120/150\n",
      "2237/2237 [==============================] - 19s 9ms/step - loss: 0.6311 - val_loss: 0.5756 - lr: 1.0000e-05\n",
      "Epoch 121/150\n",
      "2237/2237 [==============================] - 19s 9ms/step - loss: 0.6300 - val_loss: 0.5740 - lr: 1.0000e-05\n",
      "Epoch 122/150\n",
      "2237/2237 [==============================] - 17s 7ms/step - loss: 0.6296 - val_loss: 0.5748 - lr: 1.0000e-05\n",
      "Epoch 123/150\n",
      "2237/2237 [==============================] - 16s 7ms/step - loss: 0.6291 - val_loss: 0.5731 - lr: 1.0000e-05\n",
      "Epoch 124/150\n",
      "2237/2237 [==============================] - 16s 7ms/step - loss: 0.6285 - val_loss: 0.5732 - lr: 1.0000e-05\n",
      "Epoch 125/150\n",
      "2237/2237 [==============================] - 16s 7ms/step - loss: 0.6278 - val_loss: 0.5719 - lr: 1.0000e-05\n",
      "Epoch 126/150\n",
      "2237/2237 [==============================] - 16s 7ms/step - loss: 0.6271 - val_loss: 0.5715 - lr: 1.0000e-05\n",
      "Epoch 127/150\n",
      "2237/2237 [==============================] - 15s 7ms/step - loss: 0.6267 - val_loss: 0.5711 - lr: 1.0000e-05\n",
      "Epoch 128/150\n",
      "2237/2237 [==============================] - 15s 7ms/step - loss: 0.6260 - val_loss: 0.5705 - lr: 1.0000e-05\n",
      "Epoch 129/150\n",
      "2237/2237 [==============================] - 16s 7ms/step - loss: 0.6257 - val_loss: 0.5707 - lr: 1.0000e-05\n",
      "Epoch 130/150\n",
      "2237/2237 [==============================] - 16s 7ms/step - loss: 0.6253 - val_loss: 0.5694 - lr: 1.0000e-05\n",
      "Epoch 131/150\n",
      "2237/2237 [==============================] - 17s 7ms/step - loss: 0.6246 - val_loss: 0.5688 - lr: 1.0000e-05\n",
      "Epoch 132/150\n",
      "2237/2237 [==============================] - 16s 7ms/step - loss: 0.6237 - val_loss: 0.5682 - lr: 1.0000e-05\n",
      "Epoch 133/150\n",
      "2237/2237 [==============================] - 16s 7ms/step - loss: 0.6234 - val_loss: 0.5676 - lr: 1.0000e-05\n",
      "Epoch 134/150\n",
      "2237/2237 [==============================] - 15s 7ms/step - loss: 0.6227 - val_loss: 0.5677 - lr: 1.0000e-05\n",
      "Epoch 135/150\n",
      "2231/2237 [============================>.] - ETA: 0s - loss: 0.6219\n",
      "Epoch 135: ReduceLROnPlateau reducing learning rate to 1e-06.\n",
      "2237/2237 [==============================] - 15s 7ms/step - loss: 0.6220 - val_loss: 0.5679 - lr: 1.0000e-05\n",
      "Epoch 136/150\n",
      "2237/2237 [==============================] - 15s 7ms/step - loss: 0.6216 - val_loss: 0.5682 - lr: 1.0000e-06\n",
      "Epoch 137/150\n",
      "2237/2237 [==============================] - 14s 6ms/step - loss: 0.6220 - val_loss: 0.5723 - lr: 1.0000e-06\n",
      "Epoch 138/150\n",
      "2237/2237 [==============================] - 15s 7ms/step - loss: 0.6215 - val_loss: 0.5666 - lr: 1.0000e-06\n",
      "Epoch 139/150\n",
      "2237/2237 [==============================] - 15s 7ms/step - loss: 0.6220 - val_loss: 0.5664 - lr: 1.0000e-06\n",
      "Epoch 140/150\n",
      "2237/2237 [==============================] - 15s 7ms/step - loss: 0.6216 - val_loss: 0.5664 - lr: 1.0000e-06\n",
      "Epoch 141/150\n",
      "2237/2237 [==============================] - 15s 7ms/step - loss: 0.6217 - val_loss: 0.5689 - lr: 1.0000e-06\n",
      "Epoch 142/150\n",
      "2237/2237 [==============================] - 26s 12ms/step - loss: 0.6214 - val_loss: 0.5675 - lr: 1.0000e-06\n",
      "Epoch 143/150\n",
      "2237/2237 [==============================] - 24s 11ms/step - loss: 0.6215 - val_loss: 0.5662 - lr: 1.0000e-06\n",
      "Epoch 144/150\n",
      "2237/2237 [==============================] - 21s 9ms/step - loss: 0.6214 - val_loss: 0.5667 - lr: 1.0000e-06\n",
      "Epoch 145/150\n",
      "2237/2237 [==============================] - 17s 8ms/step - loss: 0.6213 - val_loss: 0.5678 - lr: 1.0000e-06\n",
      "Epoch 146/150\n",
      "2237/2237 [==============================] - 18s 8ms/step - loss: 0.6215 - val_loss: 0.5660 - lr: 1.0000e-06\n",
      "Epoch 147/150\n",
      "2237/2237 [==============================] - 16s 7ms/step - loss: 0.6214 - val_loss: 0.5662 - lr: 1.0000e-06\n",
      "Epoch 148/150\n",
      "2237/2237 [==============================] - 17s 8ms/step - loss: 0.6212 - val_loss: 0.5666 - lr: 1.0000e-06\n",
      "Epoch 149/150\n",
      "2237/2237 [==============================] - 17s 7ms/step - loss: 0.6215 - val_loss: 0.5665 - lr: 1.0000e-06\n",
      "Epoch 150/150\n",
      "2237/2237 [==============================] - 17s 8ms/step - loss: 0.6212 - val_loss: 0.5669 - lr: 1.0000e-06\n"
     ]
    }
   ],
   "source": [
    "train = True #If you have a pre-trained model you can set this to false and load the other instead\n",
    "EPOCHS = 150\n",
    "BATCH_SIZE = 1024\n",
    "\n",
    "from tensorflow.keras.callbacks import EarlyStopping, ReduceLROnPlateau, TerminateOnNaN\n",
    "\n",
    "callbacks=[]\n",
    "callbacks.append(ReduceLROnPlateau(monitor='val_loss',  factor=0.1, patience=2, verbose=1, mode='auto', min_delta=0.0001, cooldown=2, min_lr=1E-6))\n",
    "callbacks.append(TerminateOnNaN())\n",
    "callbacks.append(tf.keras.callbacks.EarlyStopping(monitor='val_loss',verbose=1, patience=10, restore_best_weights=True))\n",
    "\n",
    "if train:\n",
    "    history = autoencoder.fit(X_train, X_train, epochs = EPOCHS, batch_size = BATCH_SIZE,\n",
    "              validation_split=0.2,\n",
    "              callbacks=callbacks)\n",
    "    # Save the model\n",
    "    autoencoder.save('baseline_ae.h5')\n",
    "    autoencoder.save_weights('baseline_ae.weights.h5')\n",
    "    \n",
    "else:\n",
    "    autoencoder = tf.keras.models.load_model('baseline_ae.h5')"
   ]
  },
  {
   "cell_type": "markdown",
   "metadata": {},
   "source": [
    "# Evaluating the model performance\n",
    "\n",
    "Remember that the key metric we use for anomaly detection is the mean-squared-error: If the error is high, the data is more likely to be anomalous, and if the error is low, the data is similar to the training data (which in our case is SM events). We therefore first need to run `model.predict()` in order to get the AE reconstructed output, both for our vanilla SM test data, and for our new leptoquark signal!"
   ]
  },
  {
   "cell_type": "code",
   "execution_count": 18,
   "metadata": {},
   "outputs": [
    {
     "name": "stdout",
     "output_type": "stream",
     "text": [
      "22369/22369 [==============================] - 34s 1ms/step\n",
      "4282/4282 [==============================] - 6s 1ms/step\n"
     ]
    }
   ],
   "source": [
    "bkg_prediction = autoencoder.predict(X_test)\n",
    "signal_prediction = autoencoder.predict(signal_test_data)"
   ]
  },
  {
   "cell_type": "markdown",
   "metadata": {},
   "source": [
    "Let's see how well the network reconstructs the transverse momentum of the leptons!"
   ]
  },
  {
   "cell_type": "code",
   "execution_count": 19,
   "metadata": {},
   "outputs": [
    {
     "data": {
      "text/plain": [
       "<matplotlib.legend.Legend at 0x7f34543564a0>"
      ]
     },
     "execution_count": 19,
     "metadata": {},
     "output_type": "execute_result"
    },
    {
     "data": {
      "image/png": "[encoded data removed]",
      "text/plain": [
       "<Figure size 1152x576 with 2 Axes>"
      ]
     },
     "metadata": {
      "needs_background": "light"
     },
     "output_type": "display_data"
    }
   ],
   "source": [
    "fig, axs = plt.subplots(1,2,figsize=(16,8))\n",
    "fig.suptitle('Real data versus reconsructed data')\n",
    "axs[0].hist(X_test[:,0],bins=100,label=r'Real data',histtype='step', linewidth=2, facecolor='none', edgecolor='green',fill=True,density=True)\n",
    "axs[0].hist(bkg_prediction[:,0],bins=100,label=r'Predicted',histtype='step', linewidth=2, facecolor='none', edgecolor='orchid',fill=True,density=True)\n",
    "axs[0].semilogy()\n",
    "axs[0].set(xlabel=u'Leading fatjet $p_{T}$ ( Norm. GeV)', ylabel='A.U')\n",
    "axs[0].legend(loc='best',frameon=False, ncol=1,fontsize='large')\n",
    "\n",
    "axs[1].hist(X_test[:,18],bins=100,label=r'Real data',histtype='step', linewidth=2, facecolor='none', edgecolor='green',fill=True,density=True)\n",
    "axs[1].hist(bkg_prediction[:,18],bins=100,label=r'Predicted',histtype='step', linewidth=2, facecolor='none', edgecolor='orchid',fill=True,density=True)\n",
    "axs[1].set(xlabel=u'Leading electron $p_{T}$ (Norm. GeV)', ylabel='A.U')\n",
    "axs[1].semilogy()\n",
    "axs[1].legend(loc='best',frameon=False, ncol=1,fontsize='large')"
   ]
  },
  {
   "cell_type": "markdown",
   "metadata": {},
   "source": [
    "The reconstructed $p_T$ has an unphysical tail below zero. For a real usecase, we would force the output to be positive for that column, as well as treat the zero-padded cases differently in the loss.\n",
    "To keep it short, we won't do that now, but you can read more about it [here](https://arxiv.org/abs/2108.03986)\n",
    "\n",
    "We then need to compute the mean-square-error, which will be our final discriminating variable. This you would need to write custom if applying the changes we mention above:"
   ]
  },
  {
   "cell_type": "code",
   "execution_count": 20,
   "metadata": {},
   "outputs": [
    {
     "name": "stderr",
     "output_type": "stream",
     "text": [
      "2024-07-02 07:08:19.734354: W tensorflow/tsl/framework/cpu_allocator_impl.cc:82] Allocation of 240508800 exceeds 10% of free system memory.\n",
      "2024-07-02 07:08:20.149796: W tensorflow/tsl/framework/cpu_allocator_impl.cc:82] Allocation of 240508800 exceeds 10% of free system memory.\n"
     ]
    }
   ],
   "source": [
    "def mse_loss(true, prediction):\n",
    "    loss = tf.reduce_mean(tf.math.square(true - prediction),axis=-1)\n",
    "    return loss\n",
    "\n",
    "# compute loss value of input data versus AE reconstructed data\n",
    "mse_sm = mse_loss(X_test, bkg_prediction.astype(np.float32)).numpy()\n",
    "mse_bsm = mse_loss(signal_test_data,signal_prediction.astype(np.float32)).numpy()"
   ]
  },
  {
   "cell_type": "markdown",
   "metadata": {},
   "source": [
    "Now, let's look at our discriminant!"
   ]
  },
  {
   "cell_type": "code",
   "execution_count": 21,
   "metadata": {},
   "outputs": [
    {
     "data": {
      "image/png": "[encoded data removed]",
      "text/plain": [
       "<Figure size 576x576 with 1 Axes>"
      ]
     },
     "metadata": {
      "needs_background": "light"
     },
     "output_type": "display_data"
    }
   ],
   "source": [
    "bin_size=100\n",
    "\n",
    "plt.figure(figsize=(8,8))\n",
    "n, bins, patches =plt.hist(mse_bsm, bins=bin_size, label=\"BSM\", density = True, histtype='step', fill=False, edgecolor='orchid', linewidth=1.5,range=[0,200])\n",
    "n_, bins_, patches_ =plt.hist(mse_sm, bins=bin_size, label=\"SM Background\", density = True, histtype='step', fill=False, edgecolor='green', linewidth=1.5,range=[0,200])\n",
    "plt.yscale('log')\n",
    "plt.xlabel(\"Mean-squared-error\")\n",
    "plt.ylabel(\"Probability (a.u.)\")\n",
    "plt.legend(loc='best')\n",
    "plt.show()"
   ]
  },
  {
   "cell_type": "markdown",
   "metadata": {},
   "source": [
    "There seems to be some discrimination power if we cut at very high values of the MSE! Let's look at a ROC curve to make it easier to vizualize"
   ]
  },
  {
   "cell_type": "code",
   "execution_count": 22,
   "metadata": {},
   "outputs": [
    {
     "data": {
      "image/png": "[encoded data removed]",
      "text/plain": [
       "<Figure size 576x576 with 1 Axes>"
      ]
     },
     "metadata": {
      "needs_background": "light"
     },
     "output_type": "display_data"
    }
   ],
   "source": [
    "from sklearn.metrics import roc_curve, auc\n",
    "\n",
    "target_background = np.zeros(mse_sm.shape[0])\n",
    "\n",
    "plt.figure(figsize=(8,8))\n",
    "trueVal = np.concatenate((np.ones(mse_bsm.shape[0]), target_background)) # anomaly=1, bkg=0\n",
    "predVal_loss = np.concatenate((mse_bsm, mse_sm))\n",
    "\n",
    "fpr_loss, tpr_loss, threshold_loss = roc_curve(trueVal, predVal_loss)\n",
    "\n",
    "auc_loss = auc(fpr_loss, tpr_loss)\n",
    "    \n",
    "plt.plot(fpr_loss, tpr_loss, \"-\", label='BSM (auc = %.1f%%)'%(auc_loss*100.), linewidth=1.5, color = \"orchid\")\n",
    "    \n",
    "plt.semilogx()\n",
    "plt.semilogy()\n",
    "plt.ylabel(\"True Positive Rate\")\n",
    "plt.xlabel(\"False Positive Rate\")\n",
    "plt.legend(loc='center right')\n",
    "plt.grid(True)\n",
    "plt.tight_layout()\n",
    "plt.plot(np.linspace(0, 1),np.linspace(0, 1), '--', color='0.75')\n",
    "plt.axvline(0.00001, color='green', linestyle='dashed', linewidth=2) # threshold value for measuring anomaly detection efficiency\n",
    "plt.show()"
   ]
  },
  {
   "cell_type": "markdown",
   "metadata": {},
   "source": [
    "This can obviously be further improved, but I leave that up to you :)"
   ]
  },
  {
   "cell_type": "markdown",
   "metadata": {},
   "source": [
    "## Model compression\n",
    "<img src=\"images/nmi_qkeras_hls4ml.jpeg\" alt=\"hls4ml and qkeras\" width=\"200\" img align=\"left\"/>\n",
    "\n",
    "Now, there is absolutely no way anyone would let you deploy this model on an FPGA in the trigger. It will use far too many resources! Luckily, as we discussed in the lecture, there are some cheap tricks you can perform to compress the model. These are pruning and quantization-aware-training and both are very easily implemented. Let's have a look.\n",
    "\n",
    "To quantize the model during training, such that the network will get the opportunity to adapt to the narrower bitwidth we use the library [QKeras](https://www.nature.com/articles/s42256-021-00356-5.epdf?sharing_token=A6MQVmmncHNyCtDUXzrqtNRgN0jAjWel9jnR3ZoTv0N3uekY-CrHD1aJ9BTeJNRfQ1EhZ9jJIhgZjfrQxrmxMLMZ4eGzSeru7-ASFE-Xt3NVE6yorlffwUN0muAm1auU2I6-5ug4bOLCRYvA0mp-iT-OdPsrBYeH0IHRYx0t3wc%3D), developed in a joint effort between CERN and Google.\n",
    "\n",
    "# Quantization aware training with QKeras\n",
    "\n",
    "Quantization is a powerful way to reduce model memory and resource consumption. In this tutorial, we will use the libary QKeras to perform quantization aware training (QAT).\n",
    "\n",
    "In contrast to in Keras, where models are trained using floating point precision, QKeras quantizes each of the model weights and activation functions during training, allowing the network to adapt to the numerical precision that will eventually be used on hardware.\n",
    "\n",
    "During the forward pass of the network, each floating point weight is put into one of $2^{bitwidth}$ buckets. Which one it goes into is defined through rounding and clipping schemes.\n",
    "\n",
    "Below you can see an example of a tensor with a (symmetric) dynamic range of $x_{f}$ $[-amax, amax]$ mapped through quantization to a an 8 bit integer, $2^8=256$ discrete values in the interval $[-128, 127]$ (32-bit floating-point can represent ~4B numbers in the interval $[-3.4e38, 3.40e38]$).\n",
    "\n",
    "<img src=\"https://gitlab.cern.ch/fastmachinelearning/cms_mlatl1t_tutorial/-/raw/master/part2/images/8-bit-signed-integer-quantization.png?ref_type=heads\" width=\"800\"/>\n",
    "\n",
    "Quantization of floating point numbers can be achieved using the quantization operation\n",
    "\n",
    "$$x_{q} = Clip(Round(x_{f}/scale))$$\n",
    "\n",
    "where $x_{q}$ is the quantized digit and $x_{f}$ is the floating point digit. $Round$ is a function that applies some rounding scheme to each number and $Clip$ is a function that clips outliers that fall outside the $[-128, 127]$ interval. The $scale$ parameter is obtained by dividing the float-point dynamic-range into 256 equal parts.\n",
    "\n",
    "On FPGA, we do not use int8 quantization, but fixed-point quantization, bu the idea is similar. Fixed-point representation is a way to express fractions with integers and offers more control over precision and range. We can split the $W$-bits making up an integer (in our case $W=8$) to represent the integer part of a number and the fractional part of the number. We usually reserve 1-bit representing the sign of the digit. The radix splits the remaining $W-1$ bits to $I$ most significant bits representing the integer value and $F$ least significant bits representing the fraction. We write this as $<W,I>$, where $F=W-1-I$.  Here is an example for an unsigned $<8,3>$:\n",
    "\n",
    "<img src=\"https://gitlab.cern.ch/fastmachinelearning/cms_mlatl1t_tutorial/-/raw/master/part2/images/fixedpoint.png?ref_type=heads\" width=\"400\"/>\n",
    "\n",
    "\n",
    "This fixed point number corresponds to $2^4\\cdot0+2^3\\cdot0+2^2\\cdot0+2^1\\cdot1+2^0\\cdot0+2^{-1}\\cdot1+2^{-2}\\cdot1+2^{-3}\\cdot0=2.75$.\n",
    "\n",
    "The choice of $I$ and $F$ has to be derived as a trade-off between representation range and precision, where $I$ controls the range and $F$ the precision.\n",
    "\n",
    "In the following we will use a bitwidth of 8 and 0 integer bits. Not considering the sign bit, this means that the smallest number you can represent (the precision) and the largest number (the range) is:\n",
    "\n",
    "$$ \\rm{Precision}= \\frac{1}{2^{F}}= \\frac{1}{2^8} = 0.00390625$$\n",
    "$$\\rm{Range}= [-2^0,-2^0-1]=[-1,0] $$\n",
    "With zero integer bits the largest number you can represent is just below (but not including) 1. For weights in deep neural networks, being constrained to be less than 1 is often a reasonable assumtion.\n",
    "\n",
    "\n",
    "\n",
    "What QKeras (and other QAT libraries) do, is to include the quantization error during the training, in the following way:\n",
    "- \"Fake quantize\" the floating-point weights and activations during the forward pass: quantize the weights and use them for the layer operations\n",
    "- Immediately un-quantize the parameters so the rest of the computations take place in floating-point\n",
    "- During the backward pass, the gradient of the weights is used to update the floating point weight\n",
    "- The quantization operation gradient (zero or undefined) is handled by passing the gradient through as is (\"straight through estimator\")\n"
   ]
  },
  {
   "cell_type": "markdown",
   "metadata": {},
   "source": [
    "## Translating to a QKeras QAT model\n",
    "There are two ways to translate this into a QKeras model that can be trained quantization aware, lets first do it manually:\n",
    "\n",
    "### Manual QKeras model definition:"
   ]
  },
  {
   "cell_type": "code",
   "execution_count": 23,
   "metadata": {},
   "outputs": [
    {
     "name": "stdout",
     "output_type": "stream",
     "text": [
      "WARNING:tensorflow:From /usr/local/venv/lib/python3.10/site-packages/tensorflow/python/autograph/pyct/static_analysis/liveness.py:83: Analyzer.lamba_check (from tensorflow.python.autograph.pyct.static_analysis.liveness) is deprecated and will be removed after 2023-09-23.\n",
      "Instructions for updating:\n",
      "Lambda fuctions will be no more assumed to be used in the statement where they are used, or at least in the same block. https://github.com/tensorflow/tensorflow/issues/56089\n",
      "Model: \"model_1\"\n",
      "_________________________________________________________________\n",
      " Layer (type)                Output Shape              Param #   \n",
      "=================================================================\n",
      " input_2 (InputLayer)        [(None, 42)]              0         \n",
      "                                                                 \n",
      " q_dense (QDense)            (None, 32)                1376      \n",
      "                                                                 \n",
      " batch_normalization_4 (Batc  (None, 32)               128       \n",
      " hNormalization)                                                 \n",
      "                                                                 \n",
      " q_activation (QActivation)  (None, 32)                0         \n",
      "                                                                 \n",
      " q_dense_1 (QDense)          (None, 16)                528       \n",
      "                                                                 \n",
      " batch_normalization_5 (Batc  (None, 16)               64        \n",
      " hNormalization)                                                 \n",
      "                                                                 \n",
      " q_activation_1 (QActivation  (None, 16)               0         \n",
      " )                                                               \n",
      "                                                                 \n",
      " bottleneck (QDense)         (None, 3)                 51        \n",
      "                                                                 \n",
      " q_dense_2 (QDense)          (None, 16)                64        \n",
      "                                                                 \n",
      " batch_normalization_6 (Batc  (None, 16)               64        \n",
      " hNormalization)                                                 \n",
      "                                                                 \n",
      " q_activation_2 (QActivation  (None, 16)               0         \n",
      " )                                                               \n",
      "                                                                 \n",
      " q_dense_3 (QDense)          (None, 32)                544       \n",
      "                                                                 \n",
      " batch_normalization_7 (Batc  (None, 32)               128       \n",
      " hNormalization)                                                 \n",
      "                                                                 \n",
      " q_activation_3 (QActivation  (None, 32)               0         \n",
      " )                                                               \n",
      "                                                                 \n",
      " q_dense_4 (QDense)          (None, 42)                1386      \n",
      "                                                                 \n",
      "=================================================================\n",
      "Total params: 4,333\n",
      "Trainable params: 4,141\n",
      "Non-trainable params: 192\n",
      "_________________________________________________________________\n"
     ]
    }
   ],
   "source": [
    "import tensorflow as tf\n",
    "from tensorflow.keras.layers import Input, Dense, BatchNormalization\n",
    "from tensorflow.keras.models import Model\n",
    "from tensorflow.keras.regularizers import l1\n",
    "\n",
    "from tensorflow.keras.layers import Activation\n",
    "from qkeras.qlayers import QDense, QActivation\n",
    "from qkeras.quantizers import quantized_bits, quantized_relu\n",
    "\n",
    "input_shape = X_train.shape[1]\n",
    "latent_dim = 3\n",
    "\n",
    "#encoder\n",
    "inputArray = Input(shape=(input_shape,))\n",
    "# x = BatchNormalization()(inputArray)\n",
    "x = QDense(32, kernel_initializer=tf.keras.initializers.HeUniform(),\n",
    "               kernel_quantizer='quantized_bits(8,3,1, alpha=1.0)',\n",
    "               bias_quantizer='quantized_bits(8,3,1, alpha=1.0)')(inputArray)\n",
    "x = BatchNormalization()(x)\n",
    "x = QActivation('quantized_relu(bits=8)')(x)\n",
    "x = QDense(16, kernel_initializer=tf.keras.initializers.HeUniform(),\n",
    "               kernel_quantizer='quantized_bits(8,3,1, alpha=1.0)',\n",
    "               bias_quantizer='quantized_bits(8,3,1, alpha=1.0)')(x)\n",
    "x = BatchNormalization()(x)\n",
    "x = QActivation('quantized_relu(bits=8)')(x)\n",
    "encoder = QDense(latent_dim, kernel_initializer=tf.keras.initializers.HeUniform(),\n",
    "               kernel_quantizer='quantized_bits(16,6,1, alpha=1.0)',\n",
    "               bias_quantizer='quantized_bits(16,6,1, alpha=1.0)', name='bottleneck')(x)\n",
    "\n",
    "#decoder\n",
    "x = QDense(16, kernel_initializer=tf.keras.initializers.HeUniform(),\n",
    "               kernel_quantizer='quantized_bits(8,3,1, alpha=1.0)',\n",
    "               bias_quantizer='quantized_bits(8,3,1, alpha=1.0)')(encoder)\n",
    "x = BatchNormalization()(x)\n",
    "x = QActivation('quantized_relu(bits=8)')(x)\n",
    "x = QDense(32, kernel_initializer=tf.keras.initializers.HeUniform(),\n",
    "               kernel_quantizer='quantized_bits(8,3,1, alpha=1.0)',\n",
    "               bias_quantizer='quantized_bits(8,3,1, alpha=1.0)')(x)\n",
    "x = BatchNormalization()(x)\n",
    "x = QActivation('quantized_relu(bits=8)')(x)\n",
    "decoder = QDense(input_shape, kernel_initializer=tf.keras.initializers.HeUniform(),\n",
    "               kernel_quantizer='quantized_bits(16,6,1, alpha=1.0)',\n",
    "               bias_quantizer='quantized_bits(16,6,1, alpha=1.0)')(x)\n",
    "\n",
    "#create autoencoder\n",
    "q_autoencoder = Model(inputs = inputArray, outputs=decoder)\n",
    "q_autoencoder.summary()"
   ]
  },
  {
   "cell_type": "markdown",
   "metadata": {},
   "source": [
    "Wait! What is going on here?\n",
    "The magic happens in ```quantized_bits``` (see implementation [here](https://github.com/google/qkeras/blob/master/qkeras/quantizers.py#L1245)), where the parameters are the following:\n",
    "- ```bits```: The bitwidth, allowing you to have $2^{bits}$ unique values of each weight parameter\n",
    "- ```integers```: How many are integer bits, in this case zero. All 8 bits are used to represent the fractional part of the weight parameter, with no bits dedicated to representing whole numbers. This forces the value to be between -1 and 1. For DNNs this can be useful because the focus is entirely on the precision of the fraction rather than the magnitude of the number. Question: Would this also work on the output node if your algorithm is a regression of the jet mass?\n",
    "- ```symmetric```: should the values be symmetric around 0? In this case it doesnt have to be.\n",
    "- ```alpha```: with $2^W$ unique values available, we could let them go from $[-2^W, 2^W-1]$ like above, but we can also let them go from $[-2^W*\\alpha, (2^W-1)*\\alpha]$. ```alpha``` is a scaling of the weights. Enabling this often leads to improved performance, but it doesnt talk so nicely to hls4ml, so we recommend leaving it at 1 (or get ready for having to debug)\n",
    "\n",
    "Having added this, QKeras will automatically apply fake quantization for us during the forward pass, accounting for the quantization error and returning a network that is optimized for the precision you plan on using in hardware.\n",
    "\n",
    "Another thing to notice is that we leave the sigmoid and the final output logit unquantized. This is because this is were we want the values to be very accurate, and it is not going to save us a lot of resources quantizing it.\n",
    "\n",
    "\n",
    "### Automatic model quantization through config\n",
    " You can also set the quantization for the full model using a model configuration. Sometimes this can be sater if you're using the same quantizer for all layers of the same type. You don't have to use this for this tutorial, we already have a model, but we will leave it here as an example:"
   ]
  },
  {
   "cell_type": "code",
   "execution_count": 24,
   "metadata": {},
   "outputs": [],
   "source": [
    "autoQuant = False\n",
    "\n",
    "if autoQuant:\n",
    "    config = {\n",
    "      \"QDense\": {\n",
    "          \"kernel_quantizer\": \"quantized_bits(bits=8, integer=0, symmetric=0, alpha=1)\",\n",
    "          \"bias_quantizer\": \"quantized_bits(bits=8, integer=0, symmetric=0, alpha=1)\",\n",
    "      },\n",
    "      \"QActivation\": { \"relu\": \"quantized_relu(8)\" }\n",
    "    }\n",
    "    from qkeras.utils import model_quantize\n",
    "\n",
    "    qmodel = model_quantize(autoencoder, config, 4, transfer_weights=True)\n",
    "\n",
    "    for layer in qmodel.layers:\n",
    "        if hasattr(layer, \"kernel_quantizer\"):\n",
    "            print(layer.name, \"kernel:\", str(layer.kernel_quantizer_internal), \"bias:\", str(layer.bias_quantizer_internal))\n",
    "        elif hasattr(layer, \"quantizer\"):\n",
    "            print(layer.name, \"quantizer:\", str(layer.quantizer))\n",
    "\n",
    "    print()\n",
    "    qmodel.summary()"
   ]
  },
  {
   "cell_type": "markdown",
   "metadata": {},
   "source": [
    "But be careful that activation functions like softmax/sigmoid and perhaps logit layers you want to keep at full presision doesn't get quantized!\n",
    "\n",
    "## But how many bits?\n",
    "\n",
    "So now we know how to quantize our models, but how do we know wich precision to choose?\n",
    "Finding the best number of bits and integer bits to use is non-trivial, and there are two ways we recommend:\n",
    "- The easiest strategy is to scan over the possible bit widths from binary up to some maximum value and choose the smallest one that still has acceptable accuracy, and this is what we often do. \n",
    "Code for how to do this can be found [here](https://github.com/thesps/keras-training/blob/qkeras/train/train_scan_models.py#L16), and is illustrated below.\n",
    "For binary and ternary quantization, we use the special ```binary(alpha=1.0)(x)``` and ```ternary(alpha=1.0)(x)``` quantizers. \n",
    "\n",
    "<img src=\"https://gitlab.cern.ch/fastmachinelearning/cms_mlatl1t_tutorial/-/raw/master/part2/images/quant_scan.png?ref_type=heads\" width=\"400\"/>\n",
    "\n",
    "- Another thing you can do is to use our library for automatic quantization, [AutoQKeras](https://github.com/google/qkeras/blob/master/notebook/AutoQKeras.ipynb), to find the optimal quantization for each layer. This runs hyperparameter optimisation over quantizers/nodes/filters simultenously. An example can be found at the end of [this notebook](https://github.com/fastmachinelearning/hls4ml-tutorial/blob/main/part6_cnns.ipynb) \"Bonus exercise: Automatic quantization with AutoQKeras\".\n",
    "\n",
    "## Pruning\n",
    "\n",
    "Besides reducing the numerical precision of all the weights, biases and activations, I also want to remove neurons and synapses that do not contribute much to the network overall decision. We do that by pruning, let's remove 50\\% of the weights (spasity=0.5):\n",
    "Let's make sure to skip our latent dimension!"
   ]
  },
  {
   "cell_type": "code",
   "execution_count": 25,
   "metadata": {},
   "outputs": [],
   "source": [
    "import tensorflow_model_optimization as tfmot\n",
    "from tensorflow_model_optimization.python.core.sparsity.keras import prune, pruning_callbacks, pruning_schedule\n",
    "from tensorflow_model_optimization.sparsity.keras import strip_pruning\n",
    "\n",
    "def pruneFunction(layer):\n",
    "    pruning_params = {'pruning_schedule': pruning_schedule.PolynomialDecay(initial_sparsity=0.05,final_sparsity=0.50, begin_step=0, end_step=100, frequency=100)}\n",
    "    if isinstance(layer, tf.keras.layers.Dense) and layer.name!='bottleneck':\n",
    "      return tfmot.sparsity.keras.prune_low_magnitude(layer, **pruning_params)  \n",
    "    return layer\n",
    "\n",
    "# q_autoencoder.load_weights('baseline_ae.weights.h5')\n",
    "qp_autoencoder = tf.keras.models.clone_model( q_autoencoder, clone_function=pruneFunction)\n",
    "qp_autoencoder.compile(optimizer=tf.keras.optimizers.Adam(learning_rate=0.00001), loss='mse')"
   ]
  },
  {
   "cell_type": "code",
   "execution_count": 26,
   "metadata": {},
   "outputs": [
    {
     "name": "stderr",
     "output_type": "stream",
     "text": [
      "2024-07-02 07:08:36.369322: W tensorflow/tsl/framework/cpu_allocator_impl.cc:82] Allocation of 384814080 exceeds 10% of free system memory.\n"
     ]
    },
    {
     "name": "stdout",
     "output_type": "stream",
     "text": [
      "Epoch 1/150\n",
      "2237/2237 [==============================] - 37s 13ms/step - loss: 1.3873 - val_loss: 1.2552 - lr: 1.0000e-05\n",
      "Epoch 2/150\n",
      "2237/2237 [==============================] - 24s 11ms/step - loss: 1.2456 - val_loss: 1.1312 - lr: 1.0000e-05\n",
      "Epoch 3/150\n",
      "2237/2237 [==============================] - 23s 10ms/step - loss: 1.1440 - val_loss: 1.0493 - lr: 1.0000e-05\n",
      "Epoch 4/150\n",
      "2237/2237 [==============================] - 24s 11ms/step - loss: 1.0774 - val_loss: 0.9955 - lr: 1.0000e-05\n",
      "Epoch 5/150\n",
      "2237/2237 [==============================] - 26s 12ms/step - loss: 1.0323 - val_loss: 0.9584 - lr: 1.0000e-05\n",
      "Epoch 6/150\n",
      "2237/2237 [==============================] - 36s 16ms/step - loss: 1.0014 - val_loss: 0.9338 - lr: 1.0000e-05\n",
      "Epoch 7/150\n",
      "2237/2237 [==============================] - 26s 12ms/step - loss: 0.9802 - val_loss: 0.9166 - lr: 1.0000e-05\n",
      "Epoch 8/150\n",
      "2237/2237 [==============================] - 24s 11ms/step - loss: 0.9660 - val_loss: 0.9045 - lr: 1.0000e-05\n",
      "Epoch 9/150\n",
      "2237/2237 [==============================] - 25s 11ms/step - loss: 0.9548 - val_loss: 0.8942 - lr: 1.0000e-05\n",
      "Epoch 10/150\n",
      "2237/2237 [==============================] - 25s 11ms/step - loss: 0.9454 - val_loss: 0.8855 - lr: 1.0000e-05\n",
      "Epoch 11/150\n",
      "2237/2237 [==============================] - 28s 13ms/step - loss: 0.9371 - val_loss: 0.8771 - lr: 1.0000e-05\n",
      "Epoch 12/150\n",
      "2237/2237 [==============================] - 24s 11ms/step - loss: 0.9295 - val_loss: 0.8706 - lr: 1.0000e-05\n",
      "Epoch 13/150\n",
      "2237/2237 [==============================] - 28s 13ms/step - loss: 0.9228 - val_loss: 0.8637 - lr: 1.0000e-05\n",
      "Epoch 14/150\n",
      "2237/2237 [==============================] - 31s 14ms/step - loss: 0.9165 - val_loss: 0.8581 - lr: 1.0000e-05\n",
      "Epoch 15/150\n",
      "2237/2237 [==============================] - 33s 15ms/step - loss: 0.9111 - val_loss: 0.8527 - lr: 1.0000e-05\n",
      "Epoch 16/150\n",
      "2237/2237 [==============================] - 30s 13ms/step - loss: 0.9058 - val_loss: 0.8476 - lr: 1.0000e-05\n",
      "Epoch 17/150\n",
      "2237/2237 [==============================] - 27s 12ms/step - loss: 0.9006 - val_loss: 0.8423 - lr: 1.0000e-05\n",
      "Epoch 18/150\n",
      "2237/2237 [==============================] - 26s 12ms/step - loss: 0.8956 - val_loss: 0.8375 - lr: 1.0000e-05\n",
      "Epoch 19/150\n",
      "2237/2237 [==============================] - 25s 11ms/step - loss: 0.8913 - val_loss: 0.8335 - lr: 1.0000e-05\n",
      "Epoch 20/150\n",
      "2237/2237 [==============================] - 26s 11ms/step - loss: 0.8870 - val_loss: 0.8292 - lr: 1.0000e-05\n",
      "Epoch 21/150\n",
      "2237/2237 [==============================] - 26s 12ms/step - loss: 0.8827 - val_loss: 0.8249 - lr: 1.0000e-05\n",
      "Epoch 22/150\n",
      "2237/2237 [==============================] - 27s 12ms/step - loss: 0.8786 - val_loss: 0.8207 - lr: 1.0000e-05\n",
      "Epoch 23/150\n",
      "2237/2237 [==============================] - 27s 12ms/step - loss: 0.8745 - val_loss: 0.8166 - lr: 1.0000e-05\n",
      "Epoch 24/150\n",
      "2237/2237 [==============================] - 25s 11ms/step - loss: 0.8707 - val_loss: 0.8129 - lr: 1.0000e-05\n",
      "Epoch 25/150\n",
      "2237/2237 [==============================] - 27s 12ms/step - loss: 0.8673 - val_loss: 0.8100 - lr: 1.0000e-05\n",
      "Epoch 26/150\n",
      "2237/2237 [==============================] - 24s 11ms/step - loss: 0.8636 - val_loss: 0.8057 - lr: 1.0000e-05\n",
      "Epoch 27/150\n",
      "2237/2237 [==============================] - 25s 11ms/step - loss: 0.8600 - val_loss: 0.8021 - lr: 1.0000e-05\n",
      "Epoch 28/150\n",
      "2237/2237 [==============================] - 25s 11ms/step - loss: 0.8563 - val_loss: 0.7989 - lr: 1.0000e-05\n",
      "Epoch 29/150\n",
      "2237/2237 [==============================] - 24s 11ms/step - loss: 0.8531 - val_loss: 0.7952 - lr: 1.0000e-05\n",
      "Epoch 30/150\n",
      "2237/2237 [==============================] - 24s 11ms/step - loss: 0.8499 - val_loss: 0.7927 - lr: 1.0000e-05\n",
      "Epoch 31/150\n",
      "2237/2237 [==============================] - 25s 11ms/step - loss: 0.8468 - val_loss: 0.7890 - lr: 1.0000e-05\n",
      "Epoch 32/150\n",
      "2237/2237 [==============================] - 24s 11ms/step - loss: 0.8438 - val_loss: 0.7862 - lr: 1.0000e-05\n",
      "Epoch 33/150\n",
      "2237/2237 [==============================] - 24s 11ms/step - loss: 0.8413 - val_loss: 0.7839 - lr: 1.0000e-05\n",
      "Epoch 34/150\n",
      "2237/2237 [==============================] - 24s 11ms/step - loss: 0.8388 - val_loss: 0.7812 - lr: 1.0000e-05\n",
      "Epoch 35/150\n",
      "2237/2237 [==============================] - 25s 11ms/step - loss: 0.8362 - val_loss: 0.7786 - lr: 1.0000e-05\n",
      "Epoch 36/150\n",
      "2237/2237 [==============================] - 24s 11ms/step - loss: 0.8339 - val_loss: 0.7764 - lr: 1.0000e-05\n",
      "Epoch 37/150\n",
      "2237/2237 [==============================] - 24s 11ms/step - loss: 0.8317 - val_loss: 0.7743 - lr: 1.0000e-05\n",
      "Epoch 38/150\n",
      "2237/2237 [==============================] - 24s 11ms/step - loss: 0.8297 - val_loss: 0.7722 - lr: 1.0000e-05\n",
      "Epoch 39/150\n",
      "2237/2237 [==============================] - 24s 11ms/step - loss: 0.8276 - val_loss: 0.7702 - lr: 1.0000e-05\n",
      "Epoch 40/150\n",
      "2237/2237 [==============================] - 29s 13ms/step - loss: 0.8255 - val_loss: 0.7685 - lr: 1.0000e-05\n",
      "Epoch 41/150\n",
      "2237/2237 [==============================] - 35s 15ms/step - loss: 0.8236 - val_loss: 0.7664 - lr: 1.0000e-05\n",
      "Epoch 42/150\n",
      "2237/2237 [==============================] - 26s 11ms/step - loss: 0.8218 - val_loss: 0.7644 - lr: 1.0000e-05\n",
      "Epoch 43/150\n",
      "2237/2237 [==============================] - 26s 11ms/step - loss: 0.8200 - val_loss: 0.7628 - lr: 1.0000e-05\n",
      "Epoch 44/150\n",
      "2237/2237 [==============================] - 26s 11ms/step - loss: 0.8183 - val_loss: 0.7612 - lr: 1.0000e-05\n",
      "Epoch 45/150\n",
      "2237/2237 [==============================] - 25s 11ms/step - loss: 0.8165 - val_loss: 0.7591 - lr: 1.0000e-05\n",
      "Epoch 46/150\n",
      "2237/2237 [==============================] - 25s 11ms/step - loss: 0.8148 - val_loss: 0.7577 - lr: 1.0000e-05\n",
      "Epoch 47/150\n",
      "2237/2237 [==============================] - 25s 11ms/step - loss: 0.8133 - val_loss: 0.7562 - lr: 1.0000e-05\n",
      "Epoch 48/150\n",
      "2237/2237 [==============================] - 25s 11ms/step - loss: 0.8117 - val_loss: 0.7544 - lr: 1.0000e-05\n",
      "Epoch 49/150\n",
      "2237/2237 [==============================] - 25s 11ms/step - loss: 0.8101 - val_loss: 0.7541 - lr: 1.0000e-05\n",
      "Epoch 50/150\n",
      "2237/2237 [==============================] - 25s 11ms/step - loss: 0.8086 - val_loss: 0.7525 - lr: 1.0000e-05\n",
      "Epoch 51/150\n",
      "2237/2237 [==============================] - 25s 11ms/step - loss: 0.8071 - val_loss: 0.7505 - lr: 1.0000e-05\n",
      "Epoch 52/150\n",
      "2237/2237 [==============================] - 30s 13ms/step - loss: 0.8056 - val_loss: 0.7485 - lr: 1.0000e-05\n",
      "Epoch 53/150\n",
      "2237/2237 [==============================] - 55s 25ms/step - loss: 0.8041 - val_loss: 0.7468 - lr: 1.0000e-05\n",
      "Epoch 54/150\n",
      "2237/2237 [==============================] - 27s 12ms/step - loss: 0.8026 - val_loss: 0.7454 - lr: 1.0000e-05\n",
      "Epoch 55/150\n",
      "2237/2237 [==============================] - 24s 11ms/step - loss: 0.8011 - val_loss: 0.7440 - lr: 1.0000e-05\n",
      "Epoch 56/150\n",
      "2237/2237 [==============================] - 23s 10ms/step - loss: 0.7996 - val_loss: 0.7426 - lr: 1.0000e-05\n",
      "Epoch 57/150\n",
      "2237/2237 [==============================] - 23s 10ms/step - loss: 0.7982 - val_loss: 0.7418 - lr: 1.0000e-05\n",
      "Epoch 58/150\n",
      "2237/2237 [==============================] - 23s 10ms/step - loss: 0.7967 - val_loss: 0.7396 - lr: 1.0000e-05\n",
      "Epoch 59/150\n",
      "2237/2237 [==============================] - 23s 10ms/step - loss: 0.7953 - val_loss: 0.7382 - lr: 1.0000e-05\n",
      "Epoch 60/150\n",
      "2237/2237 [==============================] - 23s 10ms/step - loss: 0.7938 - val_loss: 0.7374 - lr: 1.0000e-05\n",
      "Epoch 61/150\n",
      "2237/2237 [==============================] - 23s 10ms/step - loss: 0.7926 - val_loss: 0.7360 - lr: 1.0000e-05\n",
      "Epoch 62/150\n",
      "2237/2237 [==============================] - 23s 10ms/step - loss: 0.7912 - val_loss: 0.7342 - lr: 1.0000e-05\n",
      "Epoch 63/150\n",
      "2237/2237 [==============================] - 23s 10ms/step - loss: 0.7901 - val_loss: 0.7334 - lr: 1.0000e-05\n",
      "Epoch 64/150\n",
      "2237/2237 [==============================] - 23s 10ms/step - loss: 0.7889 - val_loss: 0.7331 - lr: 1.0000e-05\n",
      "Epoch 65/150\n",
      "2237/2237 [==============================] - 23s 10ms/step - loss: 0.7876 - val_loss: 0.7306 - lr: 1.0000e-05\n",
      "Epoch 66/150\n",
      "2237/2237 [==============================] - 24s 11ms/step - loss: 0.7865 - val_loss: 0.7297 - lr: 1.0000e-05\n",
      "Epoch 67/150\n",
      "2237/2237 [==============================] - 23s 10ms/step - loss: 0.7854 - val_loss: 0.7282 - lr: 1.0000e-05\n",
      "Epoch 68/150\n",
      "2237/2237 [==============================] - 23s 10ms/step - loss: 0.7843 - val_loss: 0.7277 - lr: 1.0000e-05\n",
      "Epoch 69/150\n",
      "2237/2237 [==============================] - 24s 11ms/step - loss: 0.7831 - val_loss: 0.7262 - lr: 1.0000e-05\n",
      "Epoch 70/150\n",
      "2237/2237 [==============================] - 24s 11ms/step - loss: 0.7819 - val_loss: 0.7248 - lr: 1.0000e-05\n",
      "Epoch 71/150\n",
      "2237/2237 [==============================] - 26s 12ms/step - loss: 0.7808 - val_loss: 0.7236 - lr: 1.0000e-05\n",
      "Epoch 72/150\n",
      "2237/2237 [==============================] - 26s 11ms/step - loss: 0.7797 - val_loss: 0.7226 - lr: 1.0000e-05\n",
      "Epoch 73/150\n",
      "2237/2237 [==============================] - 25s 11ms/step - loss: 0.7787 - val_loss: 0.7217 - lr: 1.0000e-05\n",
      "Epoch 74/150\n",
      "2237/2237 [==============================] - 25s 11ms/step - loss: 0.7777 - val_loss: 0.7209 - lr: 1.0000e-05\n",
      "Epoch 75/150\n",
      "2237/2237 [==============================] - 25s 11ms/step - loss: 0.7767 - val_loss: 0.7193 - lr: 1.0000e-05\n",
      "Epoch 76/150\n",
      "2237/2237 [==============================] - 25s 11ms/step - loss: 0.7758 - val_loss: 0.7187 - lr: 1.0000e-05\n",
      "Epoch 77/150\n",
      "2237/2237 [==============================] - 24s 11ms/step - loss: 0.7749 - val_loss: 0.7181 - lr: 1.0000e-05\n",
      "Epoch 78/150\n",
      "2237/2237 [==============================] - 38s 17ms/step - loss: 0.7739 - val_loss: 0.7170 - lr: 1.0000e-05\n",
      "Epoch 79/150\n",
      "2237/2237 [==============================] - 24s 11ms/step - loss: 0.7729 - val_loss: 0.7162 - lr: 1.0000e-05\n",
      "Epoch 80/150\n",
      "2237/2237 [==============================] - 25s 11ms/step - loss: 0.7721 - val_loss: 0.7158 - lr: 1.0000e-05\n",
      "Epoch 81/150\n",
      "2237/2237 [==============================] - 26s 12ms/step - loss: 0.7711 - val_loss: 0.7153 - lr: 1.0000e-05\n",
      "Epoch 82/150\n",
      "2237/2237 [==============================] - 27s 12ms/step - loss: 0.7701 - val_loss: 0.7135 - lr: 1.0000e-05\n",
      "Epoch 83/150\n",
      "2237/2237 [==============================] - 38s 17ms/step - loss: 0.7693 - val_loss: 0.7132 - lr: 1.0000e-05\n",
      "Epoch 84/150\n",
      "2237/2237 [==============================] - 25s 11ms/step - loss: 0.7683 - val_loss: 0.7115 - lr: 1.0000e-05\n",
      "Epoch 85/150\n",
      "2237/2237 [==============================] - 26s 12ms/step - loss: 0.7674 - val_loss: 0.7104 - lr: 1.0000e-05\n",
      "Epoch 86/150\n",
      "2237/2237 [==============================] - 29s 13ms/step - loss: 0.7664 - val_loss: 0.7100 - lr: 1.0000e-05\n",
      "Epoch 87/150\n",
      "2237/2237 [==============================] - 27s 12ms/step - loss: 0.7656 - val_loss: 0.7084 - lr: 1.0000e-05\n",
      "Epoch 88/150\n",
      "2237/2237 [==============================] - 24s 11ms/step - loss: 0.7647 - val_loss: 0.7080 - lr: 1.0000e-05\n",
      "Epoch 89/150\n",
      "2237/2237 [==============================] - 24s 11ms/step - loss: 0.7638 - val_loss: 0.7067 - lr: 1.0000e-05\n",
      "Epoch 90/150\n",
      "2237/2237 [==============================] - 24s 11ms/step - loss: 0.7630 - val_loss: 0.7073 - lr: 1.0000e-05\n",
      "Epoch 91/150\n",
      "2237/2237 [==============================] - 24s 11ms/step - loss: 0.7622 - val_loss: 0.7057 - lr: 1.0000e-05\n",
      "Epoch 92/150\n",
      "2237/2237 [==============================] - 24s 11ms/step - loss: 0.7613 - val_loss: 0.7041 - lr: 1.0000e-05\n",
      "Epoch 93/150\n",
      "2237/2237 [==============================] - 24s 11ms/step - loss: 0.7606 - val_loss: 0.7036 - lr: 1.0000e-05\n",
      "Epoch 94/150\n",
      "2237/2237 [==============================] - 25s 11ms/step - loss: 0.7599 - val_loss: 0.7053 - lr: 1.0000e-05\n",
      "Epoch 95/150\n",
      "2237/2237 [==============================] - 25s 11ms/step - loss: 0.7591 - val_loss: 0.7024 - lr: 1.0000e-05\n",
      "Epoch 96/150\n",
      "2237/2237 [==============================] - 25s 11ms/step - loss: 0.7584 - val_loss: 0.7011 - lr: 1.0000e-05\n",
      "Epoch 97/150\n",
      "2237/2237 [==============================] - 24s 11ms/step - loss: 0.7576 - val_loss: 0.7005 - lr: 1.0000e-05\n",
      "Epoch 98/150\n",
      "2237/2237 [==============================] - 25s 11ms/step - loss: 0.7568 - val_loss: 0.6996 - lr: 1.0000e-05\n",
      "Epoch 99/150\n",
      "2237/2237 [==============================] - 25s 11ms/step - loss: 0.7561 - val_loss: 0.7004 - lr: 1.0000e-05\n",
      "Epoch 100/150\n",
      "2237/2237 [==============================] - 25s 11ms/step - loss: 0.7554 - val_loss: 0.6993 - lr: 1.0000e-05\n",
      "Epoch 101/150\n",
      "2237/2237 [==============================] - 25s 11ms/step - loss: 0.7547 - val_loss: 0.6980 - lr: 1.0000e-05\n",
      "Epoch 102/150\n",
      "2237/2237 [==============================] - 26s 12ms/step - loss: 0.7539 - val_loss: 0.6973 - lr: 1.0000e-05\n",
      "Epoch 103/150\n",
      "2237/2237 [==============================] - 26s 12ms/step - loss: 0.7533 - val_loss: 0.6970 - lr: 1.0000e-05\n",
      "Epoch 104/150\n",
      "2237/2237 [==============================] - 25s 11ms/step - loss: 0.7527 - val_loss: 0.6955 - lr: 1.0000e-05\n",
      "Epoch 105/150\n",
      "2237/2237 [==============================] - 26s 11ms/step - loss: 0.7519 - val_loss: 0.6955 - lr: 1.0000e-05\n",
      "Epoch 106/150\n",
      "2237/2237 [==============================] - 25s 11ms/step - loss: 0.7512 - val_loss: 0.6944 - lr: 1.0000e-05\n",
      "Epoch 107/150\n",
      "2237/2237 [==============================] - 25s 11ms/step - loss: 0.7505 - val_loss: 0.6942 - lr: 1.0000e-05\n",
      "Epoch 108/150\n",
      "2237/2237 [==============================] - 25s 11ms/step - loss: 0.7499 - val_loss: 0.6937 - lr: 1.0000e-05\n",
      "Epoch 109/150\n",
      "2237/2237 [==============================] - 26s 12ms/step - loss: 0.7493 - val_loss: 0.6925 - lr: 1.0000e-05\n",
      "Epoch 110/150\n",
      "2237/2237 [==============================] - 29s 13ms/step - loss: 0.7487 - val_loss: 0.6919 - lr: 1.0000e-05\n",
      "Epoch 111/150\n",
      "2237/2237 [==============================] - 23s 10ms/step - loss: 0.7481 - val_loss: 0.6914 - lr: 1.0000e-05\n",
      "Epoch 112/150\n",
      "2237/2237 [==============================] - 25s 11ms/step - loss: 0.7476 - val_loss: 0.6902 - lr: 1.0000e-05\n",
      "Epoch 113/150\n",
      "2237/2237 [==============================] - 27s 12ms/step - loss: 0.7470 - val_loss: 0.6984 - lr: 1.0000e-05\n",
      "Epoch 114/150\n",
      "2234/2237 [============================>.] - ETA: 0s - loss: 0.7467\n",
      "Epoch 114: ReduceLROnPlateau reducing learning rate to 1e-06.\n",
      "2237/2237 [==============================] - 26s 12ms/step - loss: 0.7465 - val_loss: 0.6902 - lr: 1.0000e-05\n",
      "Epoch 115/150\n",
      "2237/2237 [==============================] - 24s 11ms/step - loss: 0.7462 - val_loss: 0.6902 - lr: 1.0000e-06\n",
      "Epoch 116/150\n",
      "2237/2237 [==============================] - 25s 11ms/step - loss: 0.7462 - val_loss: 0.6902 - lr: 1.0000e-06\n",
      "Epoch 117/150\n",
      "2237/2237 [==============================] - 26s 12ms/step - loss: 0.7461 - val_loss: 0.6896 - lr: 1.0000e-06\n",
      "Epoch 118/150\n",
      "2237/2237 [==============================] - 24s 11ms/step - loss: 0.7460 - val_loss: 0.6898 - lr: 1.0000e-06\n",
      "Epoch 119/150\n",
      "2237/2237 [==============================] - 25s 11ms/step - loss: 0.7460 - val_loss: 0.6888 - lr: 1.0000e-06\n",
      "Epoch 120/150\n",
      "2237/2237 [==============================] - 25s 11ms/step - loss: 0.7460 - val_loss: 0.6895 - lr: 1.0000e-06\n",
      "Epoch 121/150\n",
      "2237/2237 [==============================] - 28s 12ms/step - loss: 0.7459 - val_loss: 0.6895 - lr: 1.0000e-06\n",
      "Epoch 122/150\n",
      "2237/2237 [==============================] - 27s 12ms/step - loss: 0.7459 - val_loss: 0.6907 - lr: 1.0000e-06\n",
      "Epoch 123/150\n",
      "2237/2237 [==============================] - 25s 11ms/step - loss: 0.7458 - val_loss: 0.6900 - lr: 1.0000e-06\n",
      "Epoch 124/150\n",
      "2237/2237 [==============================] - 26s 12ms/step - loss: 0.7457 - val_loss: 0.6887 - lr: 1.0000e-06\n",
      "Epoch 125/150\n",
      "2237/2237 [==============================] - 27s 12ms/step - loss: 0.7457 - val_loss: 0.6898 - lr: 1.0000e-06\n",
      "Epoch 126/150\n",
      "2237/2237 [==============================] - 26s 12ms/step - loss: 0.7456 - val_loss: 0.6934 - lr: 1.0000e-06\n",
      "Epoch 127/150\n",
      "2237/2237 [==============================] - 26s 12ms/step - loss: 0.7456 - val_loss: 0.6930 - lr: 1.0000e-06\n",
      "Epoch 128/150\n",
      "2237/2237 [==============================] - 25s 11ms/step - loss: 0.7455 - val_loss: 0.6901 - lr: 1.0000e-06\n",
      "Epoch 129/150\n",
      "2237/2237 [==============================] - 29s 13ms/step - loss: 0.7455 - val_loss: 0.6911 - lr: 1.0000e-06\n",
      "Epoch 130/150\n",
      "2237/2237 [==============================] - 25s 11ms/step - loss: 0.7454 - val_loss: 0.6884 - lr: 1.0000e-06\n",
      "Epoch 131/150\n",
      "2237/2237 [==============================] - 26s 12ms/step - loss: 0.7453 - val_loss: 0.6911 - lr: 1.0000e-06\n",
      "Epoch 132/150\n",
      "2237/2237 [==============================] - 25s 11ms/step - loss: 0.7454 - val_loss: 0.6908 - lr: 1.0000e-06\n",
      "Epoch 133/150\n",
      "2237/2237 [==============================] - 25s 11ms/step - loss: 0.7453 - val_loss: 0.6994 - lr: 1.0000e-06\n",
      "Epoch 134/150\n",
      "2237/2237 [==============================] - 24s 11ms/step - loss: 0.7452 - val_loss: 0.6878 - lr: 1.0000e-06\n",
      "Epoch 135/150\n",
      "2237/2237 [==============================] - 24s 11ms/step - loss: 0.7452 - val_loss: 0.6904 - lr: 1.0000e-06\n",
      "Epoch 136/150\n",
      "2237/2237 [==============================] - 24s 11ms/step - loss: 0.7451 - val_loss: 0.6877 - lr: 1.0000e-06\n",
      "Epoch 137/150\n",
      "2237/2237 [==============================] - 26s 12ms/step - loss: 0.7450 - val_loss: 0.6887 - lr: 1.0000e-06\n",
      "Epoch 138/150\n",
      "2237/2237 [==============================] - 26s 12ms/step - loss: 0.7449 - val_loss: 0.6901 - lr: 1.0000e-06\n",
      "Epoch 139/150\n",
      "2237/2237 [==============================] - 26s 11ms/step - loss: 0.7449 - val_loss: 0.6897 - lr: 1.0000e-06\n",
      "Epoch 140/150\n",
      "2237/2237 [==============================] - 26s 12ms/step - loss: 0.7448 - val_loss: 0.6920 - lr: 1.0000e-06\n",
      "Epoch 141/150\n",
      "2237/2237 [==============================] - 27s 12ms/step - loss: 0.7448 - val_loss: 0.6887 - lr: 1.0000e-06\n",
      "Epoch 142/150\n",
      "2237/2237 [==============================] - 25s 11ms/step - loss: 0.7448 - val_loss: 0.6880 - lr: 1.0000e-06\n",
      "Epoch 143/150\n",
      "2237/2237 [==============================] - 24s 11ms/step - loss: 0.7447 - val_loss: 0.6877 - lr: 1.0000e-06\n",
      "Epoch 144/150\n",
      "2237/2237 [==============================] - 24s 11ms/step - loss: 0.7446 - val_loss: 0.6879 - lr: 1.0000e-06\n",
      "Epoch 145/150\n",
      "2237/2237 [==============================] - 25s 11ms/step - loss: 0.7445 - val_loss: 0.6877 - lr: 1.0000e-06\n",
      "Epoch 146/150\n",
      "2237/2237 [==============================] - 24s 11ms/step - loss: 0.7445 - val_loss: 0.6870 - lr: 1.0000e-06\n",
      "Epoch 147/150\n",
      "2237/2237 [==============================] - 26s 11ms/step - loss: 0.7444 - val_loss: 0.6866 - lr: 1.0000e-06\n",
      "Epoch 148/150\n",
      "2237/2237 [==============================] - 25s 11ms/step - loss: 0.7443 - val_loss: 0.6879 - lr: 1.0000e-06\n",
      "Epoch 149/150\n",
      "2237/2237 [==============================] - 26s 12ms/step - loss: 0.7443 - val_loss: 0.6883 - lr: 1.0000e-06\n",
      "Epoch 150/150\n",
      "2237/2237 [==============================] - 26s 12ms/step - loss: 0.7442 - val_loss: 0.6932 - lr: 1.0000e-06\n",
      "WARNING:tensorflow:Compiled the loaded model, but the compiled metrics have yet to be built. `model.compile_metrics` will be empty until you train or evaluate the model.\n"
     ]
    }
   ],
   "source": [
    "train = True\n",
    "EPOCHS = 150\n",
    "BATCH_SIZE = 1024\n",
    "\n",
    "from tensorflow.keras.callbacks import EarlyStopping, ReduceLROnPlateau, TerminateOnNaN\n",
    "\n",
    "callbacks=[]\n",
    "callbacks.append(ReduceLROnPlateau(monitor='val_loss',  factor=0.1, patience=2, verbose=1, mode='auto', min_delta=0.0001, cooldown=2, min_lr=1E-6))\n",
    "callbacks.append(TerminateOnNaN())\n",
    "callbacks.append(tf.keras.callbacks.EarlyStopping(monitor='val_loss',verbose=1, patience=10, restore_best_weights=False))\n",
    "callbacks.append(pruning_callbacks.UpdatePruningStep())\n",
    "if train:\n",
    "        \n",
    "    history = qp_autoencoder.fit(X_train, X_train, epochs = EPOCHS, batch_size = BATCH_SIZE,\n",
    "                  validation_split=0.2,\n",
    "                  callbacks=callbacks)\n",
    "    # Save the model\n",
    "    qp_autoencoder = strip_pruning(qp_autoencoder)\n",
    "    qp_autoencoder.save('qkeras_ae.h5')\n",
    "    \n",
    "else:\n",
    "    from qkeras.utils import _add_supported_quantized_objects\n",
    "    co = {}; _add_supported_quantized_objects(co)\n",
    "\n",
    "    qp_autoencoder = tf.keras.models.load_model('qkeras_ae.h5',custom_objects=co)\n",
    "    "
   ]
  },
  {
   "cell_type": "markdown",
   "metadata": {},
   "source": [
    "Let's quickly check that the pruning worked and 50% of the weights are indeed 0!"
   ]
  },
  {
   "cell_type": "code",
   "execution_count": 27,
   "metadata": {},
   "outputs": [
    {
     "name": "stdout",
     "output_type": "stream",
     "text": [
      "Layer dense: % of zeros = 0.0\n",
      "Layer dense_1: % of zeros = 0.0\n",
      "Layer dense_2: % of zeros = 0.0\n",
      "Layer dense_3: % of zeros = 0.0\n",
      "Layer dense_4: % of zeros = 0.0\n",
      "Layer dense_5: % of zeros = 0.0\n",
      "Layer q_dense: % of zeros = 0.5\n",
      "Layer q_dense_1: % of zeros = 0.5\n",
      "Layer bottleneck: % of zeros = 0.0\n",
      "Layer q_dense_2: % of zeros = 0.5\n",
      "Layer q_dense_3: % of zeros = 0.5\n",
      "Layer q_dense_4: % of zeros = 0.5\n"
     ]
    },
    {
     "data": {
      "image/png": "[encoded data removed]",
      "text/plain": [
       "<Figure size 720x720 with 1 Axes>"
      ]
     },
     "metadata": {
      "needs_background": "light"
     },
     "output_type": "display_data"
    },
    {
     "data": {
      "image/png": "[encoded data removed]",
      "text/plain": [
       "<Figure size 720x720 with 1 Axes>"
      ]
     },
     "metadata": {
      "needs_background": "light"
     },
     "output_type": "display_data"
    }
   ],
   "source": [
    "def doWeights(model):\n",
    "\n",
    "    allWeightsByLayer = {}\n",
    "    for layer in model.layers:\n",
    "        if (layer._name).find(\"batch\")!=-1 or len(layer.get_weights())<1:\n",
    "            continue \n",
    "        weights=layer.weights[0].numpy().flatten()  \n",
    "        allWeightsByLayer[layer._name] = weights\n",
    "        print('Layer {}: % of zeros = {}'.format(layer._name,np.sum(weights==0)/np.size(weights)))\n",
    "\n",
    "    labelsW = []\n",
    "    histosW = []\n",
    "\n",
    "    for key in reversed(sorted(allWeightsByLayer.keys())):\n",
    "        labelsW.append(key)\n",
    "        histosW.append(allWeightsByLayer[key])\n",
    "\n",
    "    fig = plt.figure(figsize=(10,10))\n",
    "    bins = np.linspace(-1.5, 1.5, 50)\n",
    "    plt.hist(histosW,bins,histtype='stepfilled',stacked=True,label=labelsW, edgecolor='black')\n",
    "    plt.legend(frameon=False,loc='upper left')\n",
    "    plt.ylabel('Number of Weights')\n",
    "    plt.xlabel('Weights')\n",
    "    plt.figtext(0.2, 0.38,model._name, wrap=True, horizontalalignment='left',verticalalignment='center')\n",
    "    \n",
    "doWeights(autoencoder) \n",
    "doWeights(qp_autoencoder) "
   ]
  },
  {
   "cell_type": "markdown",
   "metadata": {},
   "source": [
    "Indeed, a huge spike at zero for the pruned model! Let's compare the performance to the floating point precision, unpruned model:"
   ]
  },
  {
   "cell_type": "code",
   "execution_count": 28,
   "metadata": {},
   "outputs": [
    {
     "name": "stdout",
     "output_type": "stream",
     "text": [
      "22369/22369 [==============================] - 55s 2ms/step\n",
      "4282/4282 [==============================] - 11s 3ms/step\n"
     ]
    },
    {
     "data": {
      "text/plain": [
       "<Figure size 576x576 with 0 Axes>"
      ]
     },
     "metadata": {},
     "output_type": "display_data"
    }
   ],
   "source": [
    "bkg_prediction = qp_autoencoder.predict(X_test)\n",
    "signal_prediction = qp_autoencoder.predict(signal_test_data)\n",
    "\n",
    "# compute loss value of input data versus AE reconstructed data\n",
    "q_mse_sm = mse_loss(X_test, bkg_prediction.astype(np.float32)).numpy()\n",
    "q_mse_bsm = mse_loss(signal_test_data,signal_prediction.astype(np.float32)).numpy()\n",
    "\n",
    "target_background = np.zeros(q_mse_sm.shape[0])\n",
    "\n",
    "plt.figure(figsize=(8,8))\n",
    "trueVal = np.concatenate((np.ones(q_mse_bsm.shape[0]), target_background)) # anomaly=1, bkg=0\n",
    "predVal_loss = np.concatenate((q_mse_bsm, q_mse_sm))\n",
    "\n",
    "q_fpr_loss, q_tpr_loss, q_threshold_loss = roc_curve(trueVal, predVal_loss)\n",
    "\n",
    "q_auc_loss = auc(q_fpr_loss, q_tpr_loss)"
   ]
  },
  {
   "cell_type": "code",
   "execution_count": 29,
   "metadata": {},
   "outputs": [
    {
     "data": {
      "image/png": "[encoded data removed]",
      "text/plain": [
       "<Figure size 576x576 with 1 Axes>"
      ]
     },
     "metadata": {
      "needs_background": "light"
     },
     "output_type": "display_data"
    }
   ],
   "source": [
    "plt.figure(figsize=(8,8))\n",
    "    \n",
    "plt.plot(fpr_loss, tpr_loss, \"-\", label='Baseline (auc = %.1f%%)'%(auc_loss*100.), linewidth=1.5, color = \"orchid\")\n",
    "plt.plot(q_fpr_loss, q_tpr_loss, \"-\", label='Quantized+Pruned (auc = %.1f%%)'%(q_auc_loss*100.), linewidth=1.5, color = \"green\")\n",
    "\n",
    "plt.semilogx()\n",
    "plt.semilogy()\n",
    "plt.ylabel(\"True Positive Rate\")\n",
    "plt.xlabel(\"False Positive Rate\")\n",
    "plt.legend(loc='center right')\n",
    "plt.grid(True)\n",
    "plt.tight_layout()\n",
    "plt.ylim(0.001,1)\n",
    "plt.plot(np.linspace(0, 1),np.linspace(0, 1), '--', color='0.75')\n",
    "plt.axvline(0.00001, color='orange', linestyle='dashed', linewidth=2) # threshold value for measuring anomaly detection efficiency\n",
    "plt.show()"
   ]
  },
  {
   "cell_type": "markdown",
   "metadata": {},
   "source": [
    "Take a moment to appreciate what an absolutely fantastic result this is! We can reduce the numerical precision of the model from floating point 32 representation to 8-bit fixed point precision, remove 50% of the weights *and still get the same performance*!! This is a crucial, and absolutely neccessary, part of making deep neural networks in particle detector data aquisition systems a reality (also, note that AUC is not a good metric for trigger applications, where you typically operate at very low false positive rates of 10E-5)."
   ]
  },
  {
   "cell_type": "markdown",
   "metadata": {},
   "source": [
    "So it seems despite having reduced the numerical precision of the model and the input, as well as removing 50% of the model weights, we're doing pretty good! This can be tuned to get even better, by carefully adjusting the input precision and the model precision, especially increaseing the precision of the logit layer.\n",
    "\n",
    "# Generating firmware with\n",
    "\n",
    "<img src=\"https://gitlab.cern.ch/fastmachinelearning/cms_mlatl1t_tutorial/-/raw/master/part2/images/hls4ml_logo.png?ref_type=heads\" width=\"400\"/>\n",
    "\n",
    "Time to translate this model into HLS (which we will integrate in the emulator) and use to generate the vhdl to be integrated in the trigger firmware. We will use the Python library hls4ml for that ([here](https://github.com/fastmachinelearning/hls4ml-tutorial/tree/main) is the hls4ml tutorial).\n",
    "hls4ml seamlessly talks to QKeras, making our jobs way easier for us, but there is still some work for us to do to make sure we get good hardware model accuracy. Lets start!\n",
    "There are a few things I already know in advance and would like my model to include:\n",
    "- Be execuded fully parallel (=unrolled) to reach the lowest possible latency. We set the ReuseFactor=1 and Strategy=Latency\n",
    "- The correct input precision\n",
    "- The correct model output (that's something you have to figure out yourself!)\n",
    "- Use \"correct\" precisions to make sure the hardware model performs the same as the software one. QKeras handles weights/biases and activation functions for us, but there are a few other parameters that need to be set by hand\n",
    "\n",
    "For the final point, have a look at the following diagram:\n",
    "\n",
    "<img src=\"https://gitlab.cern.ch/fastmachinelearning/cms_mlatl1t_tutorial/-/raw/master/part2/images/hls4ml_precisions.png?ref_type=heads\" width=\"400\"/>\n",
    "\n",
    "Whereas the $weight$ and $bias$ is set to its optimal value from the QKeras model, the accumulator $accum$ and $result$ is set to some default value that might not be optimal for a given model and might need tuning. Let's do a first attemt:"
   ]
  },
  {
   "cell_type": "code",
   "execution_count": 30,
   "metadata": {},
   "outputs": [
    {
     "name": "stdout",
     "output_type": "stream",
     "text": [
      "WARN: Unable to import optimizer(s) from expr_templates.py: No module named 'sympy'\n",
      "WARNING: Failed to import handlers from core.py: No module named 'torch'.\n",
      "WARNING: Failed to import handlers from merge.py: No module named 'torch'.\n",
      "WARNING: Failed to import handlers from convolution.py: No module named 'torch'.\n",
      "WARNING: Failed to import handlers from pooling.py: No module named 'torch'.\n",
      "WARNING: Failed to import handlers from reshape.py: No module named 'torch'.\n",
      "Interpreting Model\n",
      "Topology:\n",
      "Layer name: input_2, layer type: InputLayer, input shapes: [[None, 42]], output shape: [None, 42]\n",
      "Layer name: q_dense, layer type: QDense, input shapes: [[None, 42]], output shape: [None, 32]\n",
      "Layer name: batch_normalization_4, layer type: BatchNormalization, input shapes: [[None, 32]], output shape: [None, 32]\n",
      "Layer name: q_activation, layer type: Activation, input shapes: [[None, 32]], output shape: [None, 32]\n",
      "Layer name: q_dense_1, layer type: QDense, input shapes: [[None, 32]], output shape: [None, 16]\n",
      "Layer name: batch_normalization_5, layer type: BatchNormalization, input shapes: [[None, 16]], output shape: [None, 16]\n",
      "Layer name: q_activation_1, layer type: Activation, input shapes: [[None, 16]], output shape: [None, 16]\n",
      "Layer name: bottleneck, layer type: QDense, input shapes: [[None, 16]], output shape: [None, 3]\n",
      "Layer name: q_dense_2, layer type: QDense, input shapes: [[None, 3]], output shape: [None, 16]\n",
      "Layer name: batch_normalization_6, layer type: BatchNormalization, input shapes: [[None, 16]], output shape: [None, 16]\n",
      "Layer name: q_activation_2, layer type: Activation, input shapes: [[None, 16]], output shape: [None, 16]\n",
      "Layer name: q_dense_3, layer type: QDense, input shapes: [[None, 16]], output shape: [None, 32]\n",
      "Layer name: batch_normalization_7, layer type: BatchNormalization, input shapes: [[None, 32]], output shape: [None, 32]\n",
      "Layer name: q_activation_3, layer type: Activation, input shapes: [[None, 32]], output shape: [None, 32]\n",
      "Layer name: q_dense_4, layer type: QDense, input shapes: [[None, 32]], output shape: [None, 42]\n",
      "-----------------------------------\n",
      "Model\n",
      "  Precision:         fixed<16,6>\n",
      "  ReuseFactor:       1\n",
      "  Strategy:          Latency\n",
      "  BramFactor:        1000000000\n",
      "  TraceOutput:       False\n",
      "LayerName\n",
      "  input_2\n",
      "    Trace:           False\n",
      "    Precision:       ap_fixed<16,7,AP_RND,AP_SAT>\n",
      "  q_dense\n",
      "    Trace:           False\n",
      "    Precision\n",
      "      result:        fixed<16,6>\n",
      "      weight:        fixed<8,4>\n",
      "      bias:          fixed<8,4>\n",
      "  q_dense_linear\n",
      "    Trace:           False\n",
      "    Precision\n",
      "      result:        fixed<16,6>\n",
      "  batch_normalization_4\n",
      "    Trace:           False\n",
      "    Precision\n",
      "      result:        fixed<16,6>\n",
      "      scale:         fixed<16,6>\n",
      "      bias:          fixed<16,6>\n",
      "  q_activation\n",
      "    Trace:           False\n",
      "    Precision\n",
      "      result:        ufixed<8,0,RND_CONV,SAT>\n",
      "  q_dense_1\n",
      "    Trace:           False\n",
      "    Precision\n",
      "      result:        fixed<16,6>\n",
      "      weight:        fixed<8,4>\n",
      "      bias:          fixed<8,4>\n",
      "  q_dense_1_linear\n",
      "    Trace:           False\n",
      "    Precision\n",
      "      result:        fixed<16,6>\n",
      "  batch_normalization_5\n",
      "    Trace:           False\n",
      "    Precision\n",
      "      result:        fixed<16,6>\n",
      "      scale:         fixed<16,6>\n",
      "      bias:          fixed<16,6>\n",
      "  q_activation_1\n",
      "    Trace:           False\n",
      "    Precision\n",
      "      result:        ufixed<8,0,RND_CONV,SAT>\n",
      "  bottleneck\n",
      "    Trace:           False\n",
      "    Precision\n",
      "      result:        fixed<16,6>\n",
      "      weight:        fixed<16,7>\n",
      "      bias:          fixed<16,7>\n",
      "  bottleneck_linear\n",
      "    Trace:           False\n",
      "    Precision\n",
      "      result:        fixed<16,6>\n",
      "  q_dense_2\n",
      "    Trace:           False\n",
      "    Precision\n",
      "      result:        fixed<16,6>\n",
      "      weight:        fixed<8,4>\n",
      "      bias:          fixed<8,4>\n",
      "  q_dense_2_linear\n",
      "    Trace:           False\n",
      "    Precision\n",
      "      result:        fixed<16,6>\n",
      "  batch_normalization_6\n",
      "    Trace:           False\n",
      "    Precision\n",
      "      result:        fixed<16,6>\n",
      "      scale:         fixed<16,6>\n",
      "      bias:          fixed<16,6>\n",
      "  q_activation_2\n",
      "    Trace:           False\n",
      "    Precision\n",
      "      result:        ufixed<8,0,RND_CONV,SAT>\n",
      "  q_dense_3\n",
      "    Trace:           False\n",
      "    Precision\n",
      "      result:        fixed<16,6>\n",
      "      weight:        fixed<8,4>\n",
      "      bias:          fixed<8,4>\n",
      "  q_dense_3_linear\n",
      "    Trace:           False\n",
      "    Precision\n",
      "      result:        fixed<16,6>\n",
      "  batch_normalization_7\n",
      "    Trace:           False\n",
      "    Precision\n",
      "      result:        fixed<16,6>\n",
      "      scale:         fixed<16,6>\n",
      "      bias:          fixed<16,6>\n",
      "  q_activation_3\n",
      "    Trace:           False\n",
      "    Precision\n",
      "      result:        ufixed<8,0,RND_CONV,SAT>\n",
      "  q_dense_4\n",
      "    Trace:           False\n",
      "    Precision\n",
      "      result:        ap_fixed<16,7,AP_RND,AP_SAT>\n",
      "      weight:        fixed<16,7>\n",
      "      bias:          fixed<16,7>\n",
      "  q_dense_4_linear\n",
      "    Trace:           False\n",
      "    Precision\n",
      "      result:        fixed<16,6>\n",
      "-----------------------------------\n",
      "Interpreting Model\n",
      "Topology:\n",
      "Layer name: input_2, layer type: InputLayer, input shapes: [[None, 42]], output shape: [None, 42]\n",
      "Layer name: q_dense, layer type: QDense, input shapes: [[None, 42]], output shape: [None, 32]\n",
      "Layer name: batch_normalization_4, layer type: BatchNormalization, input shapes: [[None, 32]], output shape: [None, 32]\n",
      "Layer name: q_activation, layer type: Activation, input shapes: [[None, 32]], output shape: [None, 32]\n",
      "Layer name: q_dense_1, layer type: QDense, input shapes: [[None, 32]], output shape: [None, 16]\n",
      "Layer name: batch_normalization_5, layer type: BatchNormalization, input shapes: [[None, 16]], output shape: [None, 16]\n",
      "Layer name: q_activation_1, layer type: Activation, input shapes: [[None, 16]], output shape: [None, 16]\n",
      "Layer name: bottleneck, layer type: QDense, input shapes: [[None, 16]], output shape: [None, 3]\n",
      "Layer name: q_dense_2, layer type: QDense, input shapes: [[None, 3]], output shape: [None, 16]\n",
      "Layer name: batch_normalization_6, layer type: BatchNormalization, input shapes: [[None, 16]], output shape: [None, 16]\n",
      "Layer name: q_activation_2, layer type: Activation, input shapes: [[None, 16]], output shape: [None, 16]\n",
      "Layer name: q_dense_3, layer type: QDense, input shapes: [[None, 16]], output shape: [None, 32]\n",
      "Layer name: batch_normalization_7, layer type: BatchNormalization, input shapes: [[None, 32]], output shape: [None, 32]\n",
      "Layer name: q_activation_3, layer type: Activation, input shapes: [[None, 32]], output shape: [None, 32]\n",
      "Layer name: q_dense_4, layer type: QDense, input shapes: [[None, 32]], output shape: [None, 42]\n",
      "Creating HLS model\n"
     ]
    },
    {
     "name": "stderr",
     "output_type": "stream",
     "text": [
      "/usr/local/venv/lib/python3.10/site-packages/hls4ml/converters/__init__.py:27: UserWarning: WARNING: Pytorch converter is not enabled!\n",
      "  warnings.warn(\"WARNING: Pytorch converter is not enabled!\", stacklevel=1)\n"
     ]
    },
    {
     "name": "stdout",
     "output_type": "stream",
     "text": [
      "Writing HLS project\n",
      "WARNING:tensorflow:Compiled the loaded model, but the compiled metrics have yet to be built. `model.compile_metrics` will be empty until you train or evaluate the model.\n",
      "Done\n"
     ]
    }
   ],
   "source": [
    "import hls4ml\n",
    "\n",
    "def print_dict(d, indent=0):\n",
    "    for key, value in d.items():\n",
    "        print('  ' * indent + str(key), end='')\n",
    "        if isinstance(value, dict):\n",
    "            print()\n",
    "            print_dict(value, indent + 1)\n",
    "        else:\n",
    "            print(':' + ' ' * (20 - len(key) - 2 * indent) + str(value))\n",
    "            \n",
    "\n",
    "config = hls4ml.utils.config_from_keras_model(qp_autoencoder, granularity='name')\n",
    "config[\"Model\"][\"Strategy\"] = \"Latency\"\n",
    "config[\"Model\"][\"ReuseFactor\"] = 1\n",
    "\n",
    "inputPrecision = \"ap_fixed<16,7,AP_RND,AP_SAT>\" #The input also will be quantized! quantized_bits(16,6) becomes \"ap_fixed<16,7>. Adding one bit for the sign, different definitions QKeras/Vivado\n",
    "for layer in qp_autoencoder.layers:\n",
    "    if layer.__class__.__name__ in [\"InputLayer\"]:\n",
    "        config[\"LayerName\"][layer.name][\"Precision\"] = inputPrecision\n",
    "config[\"LayerName\"][\"q_dense_4\"][\"Precision\"][\"result\"] = \"ap_fixed<16,7,AP_RND,AP_SAT>\"       \n",
    "\n",
    "# If the logit layer is a \"normal\" Keras kayer and has not been quantized during the training, \n",
    "# we need to be careful setting the accuracy. This can be done in the following way:\n",
    "# config[\"LayerName\"][\"logits\"][\"Precision\"][\"weight\"] = \"ap_fixed<13,2,AP_RND,AP_SAT>\" \n",
    "# config[\"LayerName\"][\"logits\"][\"Precision\"][\"bias\"] = \"ap_fixed<13,2,AP_RND,AP_SAT>\" \n",
    "# config[\"LayerName\"][\"logits\"][\"Precision\"][\"accum\"] = \"ap_fixed<13,2,AP_RND,AP_SAT>\" \n",
    "# config[\"LayerName\"][\"logits\"][\"Precision\"][\"result\"] = \"ap_fixed<13,2,AP_RND,AP_SAT>\" \n",
    "\n",
    "print(\"-----------------------------------\")\n",
    "print_dict(config)\n",
    "print(\"-----------------------------------\")\n",
    "hls_model = hls4ml.converters.convert_from_keras_model(qp_autoencoder, \n",
    "                                                       hls_config=config, \n",
    "                                                       io_type='io_parallel', #other option is io_stream\n",
    "                                                       output_dir='L1TMLDemo_v1',\n",
    "                                                       project_name='L1TMLDemo_v1', \n",
    "                                                       part='xcu250-figd2104-2L-e', #Target FPGA, ideally you would use VU9P and VU13P that we use in L1T but they are not installed at lxplus, this one is close enought for this\n",
    "                                                       clock_period=2.5, # Target frequency 1/2.5ns = 400 MHz\n",
    "#                                                        input_data_tb='qX_test.npy', # For co-simulation\n",
    "#                                                        output_data_tb='qy_test.npy',# For co-simulation\n",
    ")\n",
    "hls_model.compile()"
   ]
  },
  {
   "cell_type": "markdown",
   "metadata": {},
   "source": [
    "First, what does our newly created model look like?"
   ]
  },
  {
   "cell_type": "code",
   "execution_count": 31,
   "metadata": {},
   "outputs": [
    {
     "name": "stdout",
     "output_type": "stream",
     "text": [
      "Failed to import pydot. You must install pydot and graphviz for `pydotprint` to work.\n"
     ]
    }
   ],
   "source": [
    "hls4ml.utils.plot_model(hls_model, show_shapes=True, show_precision=True, to_file=None)"
   ]
  },
  {
   "cell_type": "markdown",
   "metadata": {},
   "source": [
    "Here you can see that the precision is what we set it to be in QKeras as well as what we set manually in the config. One thing to note is the different definitions used in QKeras and in ap_fixed:\n",
    "- ```quantized_bits(8,0) -> ap_fixed<8,1>```\n",
    "- ```quantized_relu(8,0) -> ap_ufixed<8,0>```\n",
    "Also you can see that the defualt value for result/accu is set to $16,6$. This can also be tuned to more optimal values.\n",
    "\n",
    "## Validate the firmware model accuracy\n",
    "\n",
    "#et's also run predict on the C++ implementation of our model and make sure it's the ~same as for the QKeras model.\n",
    "This is very slow for the C++ implementation of our model, but we need a lot of statistics to probe the low rate region.\n",
    "\n",
    "### <span style=\"color:green\">Execute the next cell, then grab a quick coffee while its running (<5 minutes)</span>\n"
   ]
  },
  {
   "cell_type": "code",
   "execution_count": 32,
   "metadata": {},
   "outputs": [
    {
     "data": {
      "text/plain": [
       "<Figure size 576x576 with 0 Axes>"
      ]
     },
     "metadata": {},
     "output_type": "display_data"
    }
   ],
   "source": [
    "hls_bkg_prediction = hls_model.predict(np.ascontiguousarray(X_test))\n",
    "hls_signal_prediction = hls_model.predict(np.ascontiguousarray(signal_test_data))\n",
    "\n",
    "# compute loss value of input data versus AE reconstructed data\n",
    "hls_mse_sm = mse_loss(X_test, hls_bkg_prediction.astype(np.float32)).numpy()\n",
    "hls_mse_bsm = mse_loss(signal_test_data,hls_signal_prediction.astype(np.float32)).numpy()\n",
    "\n",
    "target_background = np.zeros(hls_mse_sm.shape[0])\n",
    "\n",
    "plt.figure(figsize=(8,8))\n",
    "trueVal = np.concatenate((np.ones(hls_mse_bsm.shape[0]), target_background)) # anomaly=1, bkg=0\n",
    "predVal_loss = np.concatenate((hls_mse_bsm, hls_mse_sm))\n",
    "\n",
    "hls_fpr_loss, hls_tpr_loss, hls_threshold_loss = roc_curve(trueVal, predVal_loss)\n",
    "\n",
    "hls_auc_loss = auc(hls_fpr_loss, hls_tpr_loss)"
   ]
  },
  {
   "cell_type": "code",
   "execution_count": 33,
   "metadata": {},
   "outputs": [
    {
     "name": "stdout",
     "output_type": "stream",
     "text": [
      "Truth input:\n",
      " [-6.84456454e-01 -8.19006712e-04  9.69183731e-03 -6.62189732e-01\n",
      "  5.00275140e-04 -1.02980690e-02 -2.84367992e-01 -2.84562819e-04\n",
      "  2.48297358e-04 -1.22684617e-01  3.50192235e-04 -7.14749317e-05\n",
      " -4.43206412e-02 -3.33632606e-04  7.25184459e-04 -1.37289735e-02\n",
      " -3.32360726e-04  1.02781495e-03 -2.00978918e-01 -5.61192504e-03\n",
      "  4.55263479e-03 -6.62671527e-02 -5.83728795e-03  2.05354211e-03\n",
      " -7.05828374e-02 -4.15400510e-03  5.82392782e-04 -4.95774722e-02\n",
      " -2.26075118e-03  7.94573810e-04 -2.31365177e-03 -2.54488666e-03\n",
      "  4.01507759e-03 -2.36390086e-01 -1.35940093e-03  5.54045736e-03\n",
      " -3.71266128e-01 -1.74958882e-03  7.27899626e-03 -3.72210628e-01\n",
      " -1.38539524e-03  8.18718807e-03]\n",
      "\n",
      "Qkeras reconstruction:\n",
      " [-0.521225   -0.16934204  0.0605011  -0.5536728   0.14727783 -0.03835297\n",
      " -0.19709778 -0.01055145  0.00078583 -0.10523224 -0.00260925  0.05278015\n",
      " -0.03587341  0.01071167 -0.00395966 -0.0311203   0.00487518  0.00387573\n",
      " -0.1502533   0.0246582   0.06632233 -0.06216431  0.11716461  0.26067352\n",
      " -0.07250214  0.00131226 -0.01262665 -0.06615448  0.00475311 -0.00219727\n",
      " -0.0008316  -0.07437897  0.12143707 -0.22862244  0.02754974  0.03147125\n",
      " -0.35577393  0.02296448  0.03146362 -0.381279   -0.01754761  0.01766968]\n",
      "\n",
      "HLS reconstruction:\n",
      " [-0.52148438 -0.19335938  0.03125    -0.546875    0.14648438 -0.03320312\n",
      " -0.19140625 -0.01367188  0.         -0.09765625 -0.00585938  0.0625\n",
      " -0.0390625   0.00976562 -0.00390625 -0.03125     0.00195312  0.\n",
      " -0.15234375  0.02148438 -0.04296875 -0.0625      0.11132812  0.25\n",
      " -0.0703125  -0.00390625 -0.01953125 -0.0703125   0.00195312 -0.0078125\n",
      " -0.00390625 -0.03710938  0.11328125 -0.22851562  0.02539062  0.03125\n",
      " -0.35742188  0.02539062  0.03125    -0.38867188 -0.015625    0.01171875]\n",
      "\n"
     ]
    }
   ],
   "source": [
    "# Let's print and compare some of the predictions:\n",
    "print(f\"Truth input:\\n {X_test[0]}\\n\")\n",
    "print(f\"Qkeras reconstruction:\\n {bkg_prediction[0]}\\n\")\n",
    "print(f\"HLS reconstruction:\\n {hls_bkg_prediction[0]}\\n\")"
   ]
  },
  {
   "cell_type": "code",
   "execution_count": 34,
   "metadata": {},
   "outputs": [
    {
     "data": {
      "image/png": "[encoded data removed]",
      "text/plain": [
       "<Figure size 432x288 with 1 Axes>"
      ]
     },
     "metadata": {
      "needs_background": "light"
     },
     "output_type": "display_data"
    }
   ],
   "source": [
    "# Lets plot it!\n",
    "plt.figure()\n",
    "    \n",
    "plt.plot(fpr_loss, tpr_loss, \"-\", label='Baseline (auc = %.1f%%)'%(auc_loss*100.), linewidth=1.5, color = \"orchid\")\n",
    "plt.plot(q_fpr_loss, q_tpr_loss, \"-\", label='Quantized+Pruned (auc = %.1f%%)'%(q_auc_loss*100.), linewidth=1.5, color = \"green\")\n",
    "plt.plot(hls_fpr_loss, hls_tpr_loss, \"--\", label='HLS (auc = %.1f%%)'%(hls_auc_loss*100.), linewidth=1.5, color = \"red\")\n",
    "\n",
    "plt.semilogx()\n",
    "plt.semilogy()\n",
    "plt.ylabel(\"True Positive Rate\")\n",
    "plt.xlabel(\"False Positive Rate\")\n",
    "plt.legend(loc='center right')\n",
    "plt.grid(True)\n",
    "plt.tight_layout()\n",
    "plt.ylim(0.001,1)\n",
    "plt.plot(np.linspace(0, 1),np.linspace(0, 1), '--', color='0.75')\n",
    "plt.show()"
   ]
  },
  {
   "cell_type": "markdown",
   "metadata": {},
   "source": [
    "Oh! That was easier than expected. If you see the accuracies differing significantly, it's a good idea to look into accumulator and reult precisions. Also with tools like $Trace$ and $Profiling$ that you can learn from in the [official hls4ml tutorial](https://github.com/fastmachinelearning/hls4ml-tutorial/blob/main/part2_advanced_config.ipynb) can be helpful! In this case, it doesnt seem like it's necessary. \n",
    "\n",
    "## Synthesise!\n",
    "\n",
    "Now let's build it! Lets run C-synthesis (C++ to register-transfer level) and Vivado logic synthesis (gate level representation). We will not do co-simulation (send test vectors, do an exhaustive functional test of the implemented logic), but this can be a good idea if you are using CNNs and the $io_stream$ io. \n",
    "\n",
    "Let's run!\n",
    "\n",
    "### <span style=\"color:green\">Sadly we won't get any further for this tutorial. Idid not manage to include a Vitis licenses and software for this tutorial. But you can work through the [hls4ml tutorial](https://github.com/fastmachinelearning/hls4ml-tutorial/tree/main), where there is a container with Vivado available!</span>"
   ]
  },
  {
   "cell_type": "markdown",
   "metadata": {},
   "source": [
    "# Exercises\n",
    "1. This is not such a great anomaly detection algorithm. Can you improve it? I would start adding by adding other input features\n",
    "2. Making an event-level anomaly detection algorithm is useful to be sensitive to many different BSM final states. In this exercise, see if you can rather make an anomalous jet detection algorithm (hint: you have access to other features of the FatJet than the four-momentum!)\n",
    "3. Make your own algorithm using the tools you have learnt here!"
   ]
  },
  {
   "cell_type": "markdown",
   "metadata": {},
   "source": [
    "Hint, if you want to include MET or HT they won't become \"objects\" like the electron/muon/jets. You could also not \"zip\" when loading, and then do the zip'ing manually:\n",
    "```\n",
    "# Lets convert to correct formatting ao that all objects are zipped together as Momentum4D vectors\n",
    "new_arr_sig = {}\n",
    "for obj, brs in branch_dict.items():\n",
    "    new_arr_sig[obj] = ak.zip({ br : data_sig[obj + \"_\" + br] for br in brs} )\n",
    "      \n",
    "  \n",
    "# making sure it is a Momentum4D object like the rest\n",
    "final_arr_sig = {}\n",
    "for key, value in new_arr_sig.items(): final_arr_sig[key] = ak.Array( value, with_name = \"Momentum4D\" )\n",
    "\n",
    "len(ak.Array(final_arr_sig))\n",
    "\n",
    "new_arr_bkg = {}\n",
    "for obj, brs in branch_dict.items():\n",
    "    new_arr_bkg[obj] = ak.zip({ br : data_bkg[obj + \"_\" + br] for br in brs} )\n",
    "      \n",
    "  \n",
    "# making sure it is a Momentum4D object like the rest\n",
    "final_arr_bkg = {}\n",
    "for key, value in new_arr_bkg.items(): final_arr_bkg[key] = ak.Array( value, with_name = \"Momentum4D\" )\n",
    "\n",
    "len(ak.Array(final_arr_sig))\n",
    "\n",
    "data_sig = ak.Array(final_arr_sig)\n",
    "data_bkg = ak.Array(final_arr_bkg)\n"
   ]
  },
  {
   "cell_type": "code",
   "execution_count": null,
   "metadata": {},
   "outputs": [],
   "source": []
  },
  {
   "cell_type": "code",
   "execution_count": null,
   "metadata": {},
   "outputs": [],
   "source": []
  }
 ],
 "metadata": {
  "kernelspec": {
   "display_name": "Python 3 (ipykernel)",
   "language": "python",
   "name": "python3"
  },
  "language_info": {
   "codemirror_mode": {
    "name": "ipython",
    "version": 3
   },
   "file_extension": ".py",
   "mimetype": "text/x-python",
   "name": "python",
   "nbconvert_exporter": "python",
   "pygments_lexer": "ipython3",
   "version": "3.10.5"
  }
 },
 "nbformat": 4,
 "nbformat_minor": 4
}
